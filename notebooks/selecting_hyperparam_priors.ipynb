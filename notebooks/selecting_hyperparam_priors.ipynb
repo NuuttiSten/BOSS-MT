{
 "cells": [
  {
   "cell_type": "code",
   "execution_count": 1,
   "metadata": {},
   "outputs": [],
   "source": [
    "import numpy as np\n",
    "import GPy\n",
    "import json\n",
    "import matplotlib.pyplot as plt"
   ]
  },
  {
   "cell_type": "markdown",
   "metadata": {},
   "source": [
    "Problem?\\\n",
    "1-task ICM does not perform as well as SOGP in BOSS MT\\\n",
    "Solution?\\\n",
    "Fix hyperparameters so that $\\bf{B} = [var]$"
   ]
  },
  {
   "cell_type": "markdown",
   "metadata": {},
   "source": [
    "# Covariance functions\n",
    "\n",
    "## RBF\n",
    "\n",
    "$k_{RBF}(x,x') = \\sigma^2e^{-(x-x')^2/2L^2}$\n",
    "\n",
    "where\\\n",
    "$\\sigma^2 = $ variance, scaling factor\\\n",
    "$L = $ lenghtscale, 'smoothness': large $L$ = smooth curve\n",
    "\n",
    "## STDP\n",
    "\n",
    "$k_{STDP}(x,x') = \\sigma^2e^{-2\\text{sin}^2(\\pi|x-x'|)/pL^2}$\n",
    "\n",
    "where\\\n",
    "$p = $ period\n",
    "\n",
    "covariance functions may also be more complex, or they can be added or multiplied together for example to add support for multiple dimensions.\n"
   ]
  },
  {
   "cell_type": "markdown",
   "metadata": {},
   "source": [
    "# SOGP kernel\n",
    "\n",
    "$\\bf{K} = \\begin{pmatrix}\n",
    "    k(\\textbf{x}_1,\\textbf{x}_1) & \\dots & k(\\textbf{x}_1,\\textbf{x}_N) \\\\\n",
    "    \\vdots & \\ddots & \\vdots \\\\\n",
    "    k(\\textbf{x}_N,\\textbf{x}_1) & \\dots & k(\\textbf{x}_N,\\textbf{x}_N) \\\\\n",
    "    \\end{pmatrix}$,\n",
    "\n",
    "where $N = $ number of inputs and\n",
    "$k(\\bf{x},\\bf{x}') = $ valid covariance function for vector input $\\bf{x} \\in \\mathbf{R}^d$"
   ]
  },
  {
   "cell_type": "markdown",
   "metadata": {},
   "source": [
    "# Coregionalization kernels\n",
    "\n",
    "Kernel and coregionalization matrix produce MT kernel.\\\n",
    "Now coregionalization matrix consumes the variance $\\sigma^2$, so it is fixed to one in the covariance functions.\n",
    "\n",
    "## LCM kernel\n",
    "\n",
    "$\\bf{K}_{LMC} = \\sum_{q=1}^{Q}\\bf{B}_q\\otimes\\bf{K}_q$ (see Kronecker product below)\n",
    "\n",
    "## ICM kernel (Q = 1)\n",
    "\n",
    "$\\bf{K}_{IMC} = \\bf{B}_1\\otimes\\bf{K}_1$\n",
    "\n",
    "### Coregionalization matrix $\\bf{B}_q$:\n",
    "$\\bf{B}_q = \\bf{W}_q\\bf{W}_q^\\top$\\\n",
    "or (how it is in GPy, I have not yet found original source to this, althought it makes sense)\\\n",
    "$\\bf{B}_q = \\bf{W}_q\\bf{W}_q^\\top + diag(\\bf{\\kappa})$\n",
    "\n",
    "where:\\\n",
    "$\\bf{W}_q \\in \\mathbf{R}^{num\\_tasks\\times num_tasks}$ encodes correlation between tasks and has rank r, (autocorrelation, correlation, correlation, autocorrelation)\\\n",
    "$\\bf{\\kappa} \\in \\mathbf{R}^{num\\_tasks}$ allows independence (or variance) of tasks, and\\\n",
    "$r \\in \\{1,...,num\\_tasks\\}$ is a grouping/complexity factor that may be used to group tasks that share covariance functions\n",
    "\n",
    "### Kronecker product $\\otimes$\n",
    "\n",
    "$\\begin{pmatrix} a & b \\\\ c & d\\end{pmatrix} \\otimes \\begin{pmatrix} 1 & 2 \\\\ 3 & 4 \\end{pmatrix} = \\begin{pmatrix}  a1 & a2 & b1 & b2 \\\\ a3 & a4 & b3 & b4 \\\\ c1 & c2 & d1 & d2 \\\\ c3 & c4 & d3 & d4 \\end{pmatrix}$\n",
    "\n",
    "%\\cite{harville1997matrix}\n",
    "(harville1997matrix pp 333-"
   ]
  },
  {
   "cell_type": "code",
   "execution_count": null,
   "metadata": {},
   "outputs": [],
   "source": []
  },
  {
   "cell_type": "code",
   "execution_count": null,
   "metadata": {},
   "outputs": [],
   "source": []
  },
  {
   "cell_type": "code",
   "execution_count": null,
   "metadata": {},
   "outputs": [],
   "source": []
  },
  {
   "cell_type": "markdown",
   "metadata": {},
   "source": [
    "# GPr\n",
    "\n",
    "Prior predictive for new observations:\n",
    "\n",
    "\\begin{equation}p(y_*,\\textbf{y}|\\textbf{x}_*,\\textbf{X})\n",
    "    \\sim\n",
    "    N\\begin{pmatrix}\n",
    "    \\begin{matrix}\n",
    "    m(\\textbf{x}_1) \\\\ \\vdots \\\\ m(\\textbf{x}_j) \\\\ m(\\textbf{x}_*)\n",
    "    \\end{matrix}\n",
    "    ,\n",
    "    \\begin{matrix}\n",
    "        \\begin{pmatrix}\n",
    "        k(\\textbf{x}_1,\\textbf{x}_1) & \\dots & k(\\textbf{x}_1,\\textbf{x}_j) \\\\\n",
    "        \\vdots & \\ddots & \\vdots \\\\\n",
    "        k(\\textbf{x}_j,\\textbf{x}_1) & \\dots & k(\\textbf{x}_j,\\textbf{x}_j) \\\\\n",
    "        \\end{pmatrix}\n",
    "        \\begin{pmatrix}\n",
    "        k(\\textbf{x}_1,\\textbf{x}_*) \\\\ \\vdots \\\\ k(\\textbf{x}_j,\\textbf{x}_*)\n",
    "        \\end{pmatrix}\n",
    "        \\\\\n",
    "        \\begin{pmatrix}\n",
    "        k(\\textbf{x}_*,\\textbf{x}_1) & \\dots & k(\\textbf{x}_*,\\textbf{x}_j) \\\\\n",
    "        \\end{pmatrix}\n",
    "        \\begin{pmatrix}\n",
    "        k(\\textbf{x}_*,\\textbf{x}_*)\n",
    "        \\end{pmatrix}\n",
    "    \\end{matrix}\n",
    "    \\end{pmatrix}\n",
    "    =\n",
    "    N\\begin{pmatrix}\n",
    "    \\begin{vmatrix}\n",
    "    \\bf{\\mu} \\\\ \\mu_*\n",
    "    \\end{vmatrix}\n",
    "    ,\n",
    "    \\begin{vmatrix}\n",
    "        \\mathbf{K}\n",
    "        & \n",
    "        \\mathbf{K_*^\\top}\n",
    "        \\\\\n",
    "        \\mathbf{K_*}\n",
    "        &\n",
    "        \\mathbf{K_{**}}\n",
    "    \\end{vmatrix}\n",
    "    \\end{pmatrix}\n",
    "    .\n",
    "\\end{equation}\n",
    "\n",
    "Posterior predictive:\\\n",
    "\\begin{equation}\n",
    "     p(y_*|\\textbf{x}_*,\\textbf{X},\\textbf{y}) \\sim N(\\hat\\mu,\\hat\\nu).\n",
    "\\end{equation}"
   ]
  },
  {
   "cell_type": "markdown",
   "metadata": {},
   "source": [
    "The distribution parameters can be solved from:\n",
    "\n",
    "\\begin{equation}\n",
    "\\label{muhatsolution}\n",
    "    \\hat\\mu = \\mathbf{K}_*^\\top\\mathbf{K}^{-1}(\\textbf{y}-\\bf{\\mu})+\\mu_*\n",
    "\\end{equation}\n",
    "and\n",
    "\\begin{equation}\n",
    "\\label{nuhatsolution}\n",
    "    \\hat\\nu = \\mathbf{K}_*^\\top\\mathbf{K}^{-1}\\mathbf{K}_* + \\mathbf{K}_{**}.\n",
    "\\end{equation}"
   ]
  },
  {
   "cell_type": "markdown",
   "metadata": {},
   "source": [
    "## Coregionalization matrix with different setups"
   ]
  },
  {
   "cell_type": "code",
   "execution_count": 2,
   "metadata": {},
   "outputs": [],
   "source": [
    "def coreg_B(W, kappa):\n",
    "    print(\"W = \\n\", W)\n",
    "    print(\"kappa = \", kappa)\n",
    "    print(\"WW^T = \\n\", W.dot(W.T))\n",
    "    print(\"diag(kappa) = \\n\", np.diag(kappa))\n",
    "    print(\"B = WW^T + diag(kappa) = \\n\", W.dot(W.transpose())+np.diag(kappa))\n",
    "    return W.dot(W.transpose())+np.diag(kappa)"
   ]
  },
  {
   "cell_type": "markdown",
   "metadata": {},
   "source": [
    "### 1 task, Q = 1, r = 1\n"
   ]
  },
  {
   "cell_type": "markdown",
   "metadata": {},
   "source": [
    "$\\mathbf{W} = [w]$\\\n",
    "$\\vec{\\kappa} = [\\kappa]$\\\n",
    "$\\mathbf{B} = [b_{1,1}] = [w^2+\\kappa]$\\\n",
    "$\\mathbf{K}_\\text{ICM} = b_{1,1}\\mathbf{K}$\n",
    "\n",
    "if $w1 = 0$, then\\\n",
    "$\\mathbf{K}_\\text{ICM} = \\kappa\\mathbf{K}$\\\n",
    "and thus $\\kappa$ takes the role of variance $\\sigma^2$ that was fixed to one."
   ]
  },
  {
   "cell_type": "code",
   "execution_count": 3,
   "metadata": {},
   "outputs": [
    {
     "name": "stdout",
     "output_type": "stream",
     "text": [
      "W = \n",
      " [1]\n",
      "kappa =  [0.5]\n",
      "WW^T = \n",
      " 1\n",
      "diag(kappa) = \n",
      " [[0.5]]\n",
      "B = WW^T + diag(kappa) = \n",
      " [[1.5]]\n"
     ]
    }
   ],
   "source": [
    "W = np.array([1])\n",
    "kappa = np.array([0.5])\n",
    "B = coreg_B(W, kappa)"
   ]
  },
  {
   "cell_type": "markdown",
   "metadata": {},
   "source": [
    "### 2 tasks, Q = 1, r = 1"
   ]
  },
  {
   "cell_type": "markdown",
   "metadata": {},
   "source": [
    "$\\mathbf{W} = \\begin{pmatrix} w_1 & w_2 \\\\ w_1 & w_2 \\end{pmatrix}$\n",
    "\n",
    "$\\mathbf{W}\\mathbf{W}^\\top = \\begin{pmatrix} w_1^2+w_2^2 & w_1^2+w_2^2 \\\\ w_1^2+w_2^2 & w_1^2+w_2^2 \\end{pmatrix}$\n",
    "\n",
    "$\\vec{\\kappa} = [\\kappa_1\\ \\kappa_2]$\n",
    "\n",
    "$diag(\\vec{\\kappa}) = \\begin{pmatrix} \\kappa_1 & 0 \\\\ 0 & \\kappa_2\\end{pmatrix}$\n",
    "\n",
    "$\\mathbf{B} = \\begin{pmatrix} b_{1,1} & b_{1,2}\\\\\n",
    "b_{2,1} & b_{2,2}\\end{pmatrix} = \\begin{pmatrix}w_1^2 + w_2^2 + \\kappa_1 & w_1^2 + w_2^2 \\\\\n",
    "w_1^2 + w_2^2 & w_1^2 + w_2^2 +\\kappa_2 \\end{pmatrix}$\n",
    "\n",
    "$\\mathbf{K}_\\text{ICM} = \\begin{pmatrix} b_{1,1}\\mathbf{K} & b_{1,2}\\mathbf{K}\\\\\n",
    "b_{2,1}\\mathbf{K} & b_{2,2}\\mathbf{K}\\end{pmatrix}$\n"
   ]
  },
  {
   "cell_type": "code",
   "execution_count": 4,
   "metadata": {},
   "outputs": [
    {
     "name": "stdout",
     "output_type": "stream",
     "text": [
      "W = \n",
      " [[0.5 0.7]\n",
      " [0.5 0.7]]\n",
      "kappa =  [0.1 0.2]\n",
      "WW^T = \n",
      " [[0.74 0.74]\n",
      " [0.74 0.74]]\n",
      "diag(kappa) = \n",
      " [[0.1 0. ]\n",
      " [0.  0.2]]\n",
      "B = WW^T + diag(kappa) = \n",
      " [[0.84 0.74]\n",
      " [0.74 0.94]]\n"
     ]
    }
   ],
   "source": [
    "W = np.array([[0.5,0.7],[0.5,0.7]])\n",
    "kappa = np.array([0.1, 0.2])\n",
    "B = coreg_B(W, kappa)"
   ]
  },
  {
   "cell_type": "markdown",
   "metadata": {},
   "source": [
    "### 2 tasks, Q = 1, r = 2"
   ]
  },
  {
   "cell_type": "markdown",
   "metadata": {},
   "source": [
    "$\\mathbf{W} = \\begin{pmatrix}w_{1,1} & w_{1,2} \\\\ w_{2,1} & w_{2,2}\\end{pmatrix}$\n",
    "\n",
    "$\\mathbf{W}\\mathbf{W}^\\top = \\begin{pmatrix}w_{1,1}^2 + w_{1,2}^2 & w_{1,1}w_{2,1} + w_{1,2}w_{2,2}\\\\ w_{1,1}w_{2,1} + w_{1,2}w_{2,2} & w_{2,1}^2 + w_{2,2}^2\\end{pmatrix}$\n",
    "\n",
    "Does rank >1 allow more independence already in the correlation part, without kappa?\n",
    "\n",
    "$\\vec{\\kappa} = [\\kappa_1\\ \\kappa_2]$\n",
    "\n",
    "$diag(\\vec{\\kappa}) = \\begin{pmatrix} \\kappa_1 & 0 \\\\ 0 & \\kappa_2\\end{pmatrix}$\n",
    "\n",
    "$\\mathbf{B} = \\begin{pmatrix} b_{1,1} & b_{1,2}\\\\\n",
    "b_{2,1} & b_{2,2}\\end{pmatrix} = \\begin{pmatrix}w_{1,1}^2 + w_{1,2}^2 + \\kappa_1 & w_{1,1}w_{2,1} + w_{1,2}w_{2,2}\\\\ w_{1,1}w_{2,1} + w_{1,2}w_{2,2} & w_{2,1}^2 + w_{2,2}^2 + \\kappa_2 \\end{pmatrix}$\n",
    "\n",
    "$\\mathbf{K}_\\text{ICM} = \\begin{pmatrix} b_{1,1}\\mathbf{K} & b_{1,2}\\mathbf{K}\\\\\n",
    "b_{2,1}\\mathbf{K} & b_{2,2}\\mathbf{K}\\end{pmatrix}$\n",
    "\n"
   ]
  },
  {
   "cell_type": "code",
   "execution_count": 5,
   "metadata": {},
   "outputs": [
    {
     "name": "stdout",
     "output_type": "stream",
     "text": [
      "W = \n",
      " [[0.5 0.7]\n",
      " [0.6 0.3]]\n",
      "kappa =  [0.1 0.2]\n",
      "WW^T = \n",
      " [[0.74 0.51]\n",
      " [0.51 0.45]]\n",
      "diag(kappa) = \n",
      " [[0.1 0. ]\n",
      " [0.  0.2]]\n",
      "B = WW^T + diag(kappa) = \n",
      " [[0.84 0.51]\n",
      " [0.51 0.65]]\n"
     ]
    }
   ],
   "source": [
    "# len(kappa) = 2\n",
    "W = np.array([[0.5,0.7],[0.6,0.3]])\n",
    "kappa = np.array([0.1, 0.2])\n",
    "B = coreg_B(W, kappa)"
   ]
  },
  {
   "cell_type": "markdown",
   "metadata": {},
   "source": [
    "### 1 task, Q = 2, r = 1 (LMC) ! definitely overfitting, but just to show how it works"
   ]
  },
  {
   "cell_type": "markdown",
   "metadata": {},
   "source": [
    "$\\mathbf{W}^{q_1} = [w^{q_1}]$\n",
    "\n",
    "$\\mathbf{W}^{q_2} = [w^{q_2}]$\n",
    "\n",
    "$\\vec{\\kappa}^{q_1} = [\\kappa^{q_1}]$\n",
    "\n",
    "$\\vec{\\kappa}^{q_2} = [\\kappa^{q_2}]$\n",
    "\n",
    "$\\mathbf{B}^{q_1} = [b^{q_1}_{1,1}] = [{w^{q_1}}^2+\\kappa^{q_1}]$\n",
    "\n",
    "$\\mathbf{B}^{q_2} = [b^{q_2}_{1,1}] = [{w^{q_2}}^2+\\kappa^{q_2}]$\n",
    "\n",
    "$\\mathbf{K}_\\text{LCM} = \\sum_{q=1}^2{b^q\\otimes\\bf{K}} = b^{q_1}_{1,1}\\mathbf{K} + b^{q_2}_{1,1}\\mathbf{K} = (b^{q_1}_{1,1}+b^{q_2}_{1,1})\\mathbf{K}$\n"
   ]
  },
  {
   "cell_type": "markdown",
   "metadata": {},
   "source": [
    "### 2 tasks, Q = 2, r = 1 (LMC)"
   ]
  },
  {
   "cell_type": "markdown",
   "metadata": {},
   "source": [
    "$\\mathbf{W}^q = \\begin{pmatrix} w^q_1 & w^q_2 \\\\ w^q_1 & w^q_2 \\end{pmatrix}$\n",
    "\n",
    "$\\mathbf{W}^q{\\mathbf{W}^q}^\\top = \\begin{pmatrix} {w^q_1}^2+{w^q_2}^2 & {w^q_1}^2+{w^q_2}^2 \\\\ {w^q_1}^2+{w^q_2}^2 & {w^q_1}^2+{w^q_2}^2\\end{pmatrix}$\n",
    "\n",
    "$\\vec{\\kappa}^q = [\\kappa^q_1\\ \\kappa^q_2]$\n",
    "\n",
    "$diag(\\vec{\\kappa}^q) = \\begin{pmatrix} \\kappa^q_1 & 0 \\\\ 0 & \\kappa^q_2\\end{pmatrix}$\n",
    "\n",
    "$\\mathbf{B}^q = \\begin{pmatrix} b^q_{1,1} & b^q_{1,2}\\\\\n",
    "b^q_{2,1} & b^q_{2,2}\\end{pmatrix} = \\begin{pmatrix} {w^q_1}^2+{w^q_2}^2+\\kappa^q_1 & {w^q_1}^2+{w^q_2}^2 \\\\ {w^q_1}^2+{w^q_2}^2 & {w^q_1}^2+{w^q_2}^2+\\kappa^q_2 \\end{pmatrix}$\n",
    "\n",
    "$\\mathbf{K}_\\text{LCM} = \\sum_{q=1}^2{\\bf{B}^q\\otimes\\bf{K}^{q}} = (\\bf{B}^{q_1}+\\bf{B}^{q_2})\\otimes(\\bf{K}^{q_1} + \\bf{K}^{q_2}) = \\begin{pmatrix} b^{q_1}_{1,1}\\mathbf{K}^{q_1}& b^{q_1}_{1,2}\\mathbf{K}^{q_1}\\\\\n",
    "b^{q_1}_{2,1}\\mathbf{K}^{q_1} & b^{q_1}_{2,2}\\mathbf{K}^{q_2}\\end{pmatrix}+\\begin{pmatrix} b^{q_2}_{1,1}\\mathbf{K}^{q_2}& b^{q_2}_{1,2}\\mathbf{K}^{q_2}\\\\\n",
    "b^{q_2}_{2,1}\\mathbf{K}^{q_2} & b^{q_2}_{2,2}\\mathbf{K}^{q_2}\\end{pmatrix} $\n",
    "\n",
    "So, with Q >1 you basically need to have different basic kernels that you wish to combine!\n"
   ]
  },
  {
   "cell_type": "markdown",
   "metadata": {},
   "source": [
    "# Experimenting"
   ]
  },
  {
   "cell_type": "markdown",
   "metadata": {},
   "source": [
    "## Load data"
   ]
  },
  {
   "cell_type": "code",
   "execution_count": 6,
   "metadata": {},
   "outputs": [],
   "source": [
    "x1 = x2 = None\n",
    "y1 = y2 = None"
   ]
  },
  {
   "cell_type": "code",
   "execution_count": 7,
   "metadata": {},
   "outputs": [],
   "source": [
    "with open('../processed_data/alanine2D_HF_baseline.json','r') as f:\n",
    "    data = json.load(f)\n",
    "    xy = np.array(data['xy'])\n",
    "    x1 = xy[:,:-1]\n",
    "    x1 = np.hstack((x1, np.zeros((len(x1),1))))\n",
    "    y1 = xy[:,-1]\n",
    "    y1 = y1.reshape(len(y1),1)"
   ]
  },
  {
   "cell_type": "code",
   "execution_count": 8,
   "metadata": {},
   "outputs": [],
   "source": [
    "with open('../processed_data/alanine2D_LF_baseline.json','r') as f:\n",
    "    data = json.load(f)\n",
    "    xy = np.array(data['xy'])\n",
    "    x2 = xy[:,:-1]\n",
    "    y2 = xy[:,-1]"
   ]
  },
  {
   "cell_type": "code",
   "execution_count": 9,
   "metadata": {},
   "outputs": [
    {
     "data": {
      "text/plain": [
       "array([[13.0575902 ],\n",
       "       [14.41360467],\n",
       "       [ 9.16532002],\n",
       "       [10.61353238],\n",
       "       [23.09933661],\n",
       "       [23.58046978],\n",
       "       [ 2.58109781],\n",
       "       [19.38889089],\n",
       "       [ 0.43418328],\n",
       "       [14.85042382],\n",
       "       [ 9.33214099],\n",
       "       [ 6.2968245 ],\n",
       "       [15.31458641],\n",
       "       [ 5.50443931],\n",
       "       [ 6.10587711],\n",
       "       [ 3.55444036],\n",
       "       [17.41547118],\n",
       "       [14.93453421],\n",
       "       [ 4.97227907],\n",
       "       [ 0.49657482],\n",
       "       [22.93357644],\n",
       "       [ 6.05958677],\n",
       "       [ 0.05090716],\n",
       "       [ 3.42311027],\n",
       "       [ 3.89984802],\n",
       "       [ 0.18936771],\n",
       "       [ 5.20275531],\n",
       "       [ 0.        ],\n",
       "       [21.04028218],\n",
       "       [23.01588115],\n",
       "       [14.44850749],\n",
       "       [ 6.18943173],\n",
       "       [21.44818976],\n",
       "       [15.53410407],\n",
       "       [20.7045832 ],\n",
       "       [14.78718595],\n",
       "       [22.39566017],\n",
       "       [19.37116159],\n",
       "       [ 3.72617101],\n",
       "       [22.23952798],\n",
       "       [ 2.73997888],\n",
       "       [23.17537564],\n",
       "       [15.2554926 ],\n",
       "       [19.45971583],\n",
       "       [12.97118985],\n",
       "       [22.25185177],\n",
       "       [19.43817225],\n",
       "       [ 2.73505074],\n",
       "       [16.01953581],\n",
       "       [13.59145465],\n",
       "       [18.90806212],\n",
       "       [21.77414547],\n",
       "       [19.26655459],\n",
       "       [20.54231678],\n",
       "       [ 0.21561574],\n",
       "       [20.91141039],\n",
       "       [18.32734924],\n",
       "       [15.56156741],\n",
       "       [13.94093488],\n",
       "       [22.67688445],\n",
       "       [22.24616493],\n",
       "       [ 5.85065641],\n",
       "       [12.06492023],\n",
       "       [15.69880573],\n",
       "       [19.91394143],\n",
       "       [21.55884105],\n",
       "       [11.00457545],\n",
       "       [20.94147502],\n",
       "       [21.25472873],\n",
       "       [23.55831047],\n",
       "       [ 2.72310745],\n",
       "       [15.95865708],\n",
       "       [12.46800806],\n",
       "       [19.91053532],\n",
       "       [17.43580407],\n",
       "       [20.45093065],\n",
       "       [21.64527599],\n",
       "       [ 6.96733922],\n",
       "       [18.76147257],\n",
       "       [11.78766013],\n",
       "       [18.61401362],\n",
       "       [15.46468123],\n",
       "       [23.71697245],\n",
       "       [14.53952926],\n",
       "       [17.17705042],\n",
       "       [21.93179046],\n",
       "       [10.87206925],\n",
       "       [18.56559935],\n",
       "       [ 5.67284227],\n",
       "       [ 8.35858167],\n",
       "       [19.37294421],\n",
       "       [22.00927081],\n",
       "       [20.99422245],\n",
       "       [ 6.45640662],\n",
       "       [20.04833402],\n",
       "       [16.39605737],\n",
       "       [ 9.03015028],\n",
       "       [ 8.22040016],\n",
       "       [ 9.84865666],\n",
       "       [22.23547846],\n",
       "       [19.12727999],\n",
       "       [17.57598497],\n",
       "       [ 7.48308464],\n",
       "       [21.9133578 ],\n",
       "       [22.01900486]])"
      ]
     },
     "execution_count": 9,
     "metadata": {},
     "output_type": "execute_result"
    }
   ],
   "source": [
    "y1"
   ]
  },
  {
   "cell_type": "markdown",
   "metadata": {},
   "source": [
    "### Basic kernel"
   ]
  },
  {
   "cell_type": "code",
   "execution_count": 10,
   "metadata": {},
   "outputs": [],
   "source": [
    "#def __init__(self, input_dim, variance=1., period=None, lengthscale=None, ARD1=False, ARD2=False, active_dims=None, name='std_periodic',useGPU=False):\n",
    "#        super(StdPeriodic, self).__init__(input_dim, active_dims, name, useGPU=useGPU\n",
    "input_dim = 2\n",
    "variance = 1\n",
    "basic_kernel = GPy.kern.src.standard_periodic.StdPeriodic(input_dim, period = 360)"
   ]
  },
  {
   "cell_type": "code",
   "execution_count": 11,
   "metadata": {},
   "outputs": [
    {
     "name": "stdout",
     "output_type": "stream",
     "text": [
      "  \u001b[1mstd_periodic.\u001b[0;0m  |  value  |  constraints  |  priors\n",
      "  \u001b[1mvariance     \u001b[0;0m  |    1.0  |      +ve      |        \n",
      "  \u001b[1mperiod       \u001b[0;0m  |  360.0  |      +ve      |        \n",
      "  \u001b[1mlengthscale  \u001b[0;0m  |    1.0  |      +ve      |        \n"
     ]
    }
   ],
   "source": [
    "print(basic_kernel)"
   ]
  },
  {
   "cell_type": "markdown",
   "metadata": {},
   "source": [
    "### ICM kernel"
   ]
  },
  {
   "cell_type": "code",
   "execution_count": 12,
   "metadata": {},
   "outputs": [
    {
     "name": "stdout",
     "output_type": "stream",
     "text": [
      "  \u001b[1mICM.                    \u001b[0;0m  |         value  |  constraints  |  priors\n",
      "  \u001b[1mstd_periodic.variance   \u001b[0;0m  |           1.0  |      +ve      |        \n",
      "  \u001b[1mstd_periodic.period     \u001b[0;0m  |         360.0  |      +ve      |        \n",
      "  \u001b[1mstd_periodic.lengthscale\u001b[0;0m  |           1.0  |      +ve      |        \n",
      "  \u001b[1mB.W                     \u001b[0;0m  |  [0.10724317]  |               |        \n",
      "  \u001b[1mB.kappa                 \u001b[0;0m  |           0.5  |      +ve      |        \n"
     ]
    }
   ],
   "source": [
    "ICM1 = GPy.util.multioutput.ICM(input_dim=2,num_outputs=1,kernel=basic_kernel)\n",
    "print(ICM1)"
   ]
  },
  {
   "cell_type": "markdown",
   "metadata": {},
   "source": [
    "### Baseline"
   ]
  },
  {
   "cell_type": "code",
   "execution_count": 28,
   "metadata": {},
   "outputs": [
    {
     "name": "stdout",
     "output_type": "stream",
     "text": [
      "\n",
      "Name : baseline_1task\n",
      "Objective : 216.58283257588306\n",
      "Number of Parameters : 4\n",
      "Number of Optimization Parameters : 3\n",
      "Updates : True\n",
      "Parameters:\n",
      "  \u001b[1mbaseline_1task.         \u001b[0;0m  |               value  |  constraints  |  priors\n",
      "  \u001b[1mstd_periodic.variance   \u001b[0;0m  |   87.10022559929514  |      +ve      |        \n",
      "  \u001b[1mstd_periodic.period     \u001b[0;0m  |   358.8614450260635  |      +ve      |        \n",
      "  \u001b[1mstd_periodic.lengthscale\u001b[0;0m  |  0.4360488260071347  |      +ve      |        \n",
      "  \u001b[1mGaussian_noise.variance \u001b[0;0m  |               1e-12  |   +ve fixed   |        \n"
     ]
    }
   ],
   "source": [
    "b1 = GPy.core.gp.GP(\n",
    "            X = x1[:,:2],\n",
    "            Y = y1,\n",
    "            kernel = basic_kernel,\n",
    "            likelihood = GPy.likelihoods.gaussian.Gaussian(),\n",
    "            inference_method = GPy.inference.latent_function_inference.ExactGaussianInference(),\n",
    "        name = \"baseline_1task\")\n",
    "b1['.*variance'][0] = np.max(y1) - np.min(y1)\n",
    "noise = 1e-12\n",
    "b1.likelihood.fix(noise)\n",
    "b1.optimize()\n",
    "print(b1)"
   ]
  },
  {
   "cell_type": "code",
   "execution_count": 29,
   "metadata": {},
   "outputs": [
    {
     "data": {
      "text/plain": [
       "0.00017565309600797718"
      ]
     },
     "execution_count": 29,
     "metadata": {},
     "output_type": "execute_result"
    }
   ],
   "source": [
    "87.10040125239115-87.10022559929514"
   ]
  },
  {
   "cell_type": "code",
   "execution_count": 24,
   "metadata": {},
   "outputs": [
    {
     "data": {
      "text/plain": [
       "5.100000009861105e-06"
      ]
     },
     "execution_count": 24,
     "metadata": {},
     "output_type": "execute_result"
    }
   ],
   "source": [
    "88.3480006-88.34799559"
   ]
  },
  {
   "cell_type": "markdown",
   "metadata": {},
   "source": [
    "### 1 task, as in MT now, W not fixed to 0 but kappa initialized to basic kernel variance"
   ]
  },
  {
   "cell_type": "code",
   "execution_count": 15,
   "metadata": {},
   "outputs": [
    {
     "name": "stdout",
     "output_type": "stream",
     "text": [
      "\n",
      "Name : ICM_1task\n",
      "Objective : 217.0332128818458\n",
      "Number of Parameters : 6\n",
      "Number of Optimization Parameters : 4\n",
      "Updates : True\n",
      "Parameters:\n",
      "  \u001b[1mICM_1task.                  \u001b[0;0m  |               value  |  constraints  |  priors\n",
      "  \u001b[1mICM.std_periodic.variance   \u001b[0;0m  |                 1.0  |   +ve fixed   |        \n",
      "  \u001b[1mICM.std_periodic.period     \u001b[0;0m  |   358.6372874633225  |      +ve      |        \n",
      "  \u001b[1mICM.std_periodic.lengthscale\u001b[0;0m  |  0.4379830593931425  |      +ve      |        \n",
      "  \u001b[1mICM.B.W                     \u001b[0;0m  |        [6.71791463]  |               |        \n",
      "  \u001b[1mICM.B.kappa                 \u001b[0;0m  |   43.21761862003048  |      +ve      |        \n",
      "  \u001b[1mGaussian_noise.variance     \u001b[0;0m  |               0.001  |   +ve fixed   |        \n"
     ]
    }
   ],
   "source": [
    "m1 = GPy.core.gp.GP(\n",
    "            X = x1,\n",
    "            Y = y1,\n",
    "            kernel = ICM1,\n",
    "            likelihood = GPy.likelihoods.gaussian.Gaussian(),\n",
    "            inference_method = GPy.inference.latent_function_inference.ExactGaussianInference(),\n",
    "        name = \"ICM_1task\")\n",
    "m1['.*variance'].constrain_fixed(1.) #For this kernel, B.kappa encodes the variance now.\n",
    "m1['.*kappa'][0] = np.max(y1) - np.min(y1) # initialize kappa as variance\n",
    "noise = 0.001\n",
    "m1.likelihood.fix(noise)\n",
    "m1.optimize()\n",
    "print(m1)"
   ]
  },
  {
   "cell_type": "code",
   "execution_count": 16,
   "metadata": {},
   "outputs": [
    {
     "name": "stdout",
     "output_type": "stream",
     "text": [
      "[[88.34799559]]\n"
     ]
    }
   ],
   "source": [
    "print(m1.kern.B.B)"
   ]
  },
  {
   "cell_type": "code",
   "execution_count": 30,
   "metadata": {},
   "outputs": [
    {
     "data": {
      "text/plain": [
       "-0.0019342333860078442"
      ]
     },
     "execution_count": 30,
     "metadata": {},
     "output_type": "execute_result"
    }
   ],
   "source": [
    "0.4360488260071347-0.4379830593931425"
   ]
  },
  {
   "cell_type": "markdown",
   "metadata": {},
   "source": [
    "### 1 task, Q =1, r = 1, W fixed to zero"
   ]
  },
  {
   "cell_type": "code",
   "execution_count": 17,
   "metadata": {},
   "outputs": [
    {
     "name": "stdout",
     "output_type": "stream",
     "text": [
      "\n",
      "Name : ICM_1task\n",
      "Objective : 217.03321288181766\n",
      "Number of Parameters : 6\n",
      "Number of Optimization Parameters : 3\n",
      "Updates : True\n",
      "Parameters:\n",
      "  \u001b[1mICM_1task.                  \u001b[0;0m  |                value  |  constraints  |  priors\n",
      "  \u001b[1mICM.std_periodic.variance   \u001b[0;0m  |                  1.0  |   +ve fixed   |        \n",
      "  \u001b[1mICM.std_periodic.period     \u001b[0;0m  |    358.6372756812835  |      +ve      |        \n",
      "  \u001b[1mICM.std_periodic.lengthscale\u001b[0;0m  |  0.43798311186950295  |      +ve      |        \n",
      "  \u001b[1mICM.B.W                     \u001b[0;0m  |                 [0.]  |     fixed     |        \n",
      "  \u001b[1mICM.B.kappa                 \u001b[0;0m  |    88.34806576245609  |      +ve      |        \n",
      "  \u001b[1mGaussian_noise.variance     \u001b[0;0m  |                0.001  |   +ve fixed   |        \n"
     ]
    }
   ],
   "source": [
    "m2 = GPy.core.gp.GP(\n",
    "            X = x1,\n",
    "            Y = y1,\n",
    "            kernel = ICM1,\n",
    "            likelihood = GPy.likelihoods.gaussian.Gaussian(),\n",
    "            inference_method = GPy.inference.latent_function_inference.ExactGaussianInference(),\n",
    "        name = \"ICM_1task\")\n",
    "m2['.*variance'].constrain_fixed(1.) #For this kernel, B.kappa encodes the variance now.\n",
    "m2['.*W'].constrain_fixed(0)\n",
    "m2['.*kappa'][0] = np.max(y1) - np.min(y1) # initialize kappa as variance\n",
    "noise = 0.001\n",
    "m2.likelihood.fix(noise)\n",
    "m2.optimize()\n",
    "print(m2)"
   ]
  },
  {
   "cell_type": "code",
   "execution_count": null,
   "metadata": {},
   "outputs": [],
   "source": []
  },
  {
   "cell_type": "code",
   "execution_count": null,
   "metadata": {},
   "outputs": [],
   "source": []
  },
  {
   "cell_type": "code",
   "execution_count": null,
   "metadata": {},
   "outputs": [],
   "source": []
  },
  {
   "cell_type": "code",
   "execution_count": null,
   "metadata": {},
   "outputs": [],
   "source": []
  },
  {
   "cell_type": "code",
   "execution_count": 18,
   "metadata": {},
   "outputs": [
    {
     "name": "stdout",
     "output_type": "stream",
     "text": [
      "\n",
      "Name : baseline_1task\n",
      "Objective : 217.0332128818238\n",
      "Number of Parameters : 4\n",
      "Number of Optimization Parameters : 3\n",
      "Updates : True\n",
      "Parameters:\n",
      "  \u001b[1mbaseline_1task.         \u001b[0;0m  |               value  |  constraints  |  priors\n",
      "  \u001b[1mstd_periodic.variance   \u001b[0;0m  |   88.34800068940254  |      +ve      |        \n",
      "  \u001b[1mstd_periodic.period     \u001b[0;0m  |   358.6372801199767  |      +ve      |        \n",
      "  \u001b[1mstd_periodic.lengthscale\u001b[0;0m  |  0.4379831148625581  |      +ve      |        \n",
      "  \u001b[1mGaussian_noise.variance \u001b[0;0m  |               0.001  |   +ve fixed   |        \n"
     ]
    }
   ],
   "source": [
    "print(b1)"
   ]
  },
  {
   "cell_type": "code",
   "execution_count": 19,
   "metadata": {},
   "outputs": [
    {
     "name": "stdout",
     "output_type": "stream",
     "text": [
      "\n",
      "Name : ICM_1task\n",
      "Objective : 217.0332128818458\n",
      "Number of Parameters : 1\n",
      "Number of Optimization Parameters : 0\n",
      "Updates : True\n",
      "Parameters:\n",
      "  \u001b[1mICM_1task.             \u001b[0;0m  |  value  |  constraints  |  priors\n",
      "  \u001b[1mGaussian_noise.variance\u001b[0;0m  |  0.001  |   +ve fixed   |        \n"
     ]
    }
   ],
   "source": [
    "print(m1)"
   ]
  },
  {
   "cell_type": "code",
   "execution_count": 20,
   "metadata": {},
   "outputs": [
    {
     "name": "stdout",
     "output_type": "stream",
     "text": [
      "\n",
      "Name : ICM_1task\n",
      "Objective : 217.03321288181766\n",
      "Number of Parameters : 6\n",
      "Number of Optimization Parameters : 3\n",
      "Updates : True\n",
      "Parameters:\n",
      "  \u001b[1mICM_1task.                  \u001b[0;0m  |                value  |  constraints  |  priors\n",
      "  \u001b[1mICM.std_periodic.variance   \u001b[0;0m  |                  1.0  |   +ve fixed   |        \n",
      "  \u001b[1mICM.std_periodic.period     \u001b[0;0m  |    358.6372756812835  |      +ve      |        \n",
      "  \u001b[1mICM.std_periodic.lengthscale\u001b[0;0m  |  0.43798311186950295  |      +ve      |        \n",
      "  \u001b[1mICM.B.W                     \u001b[0;0m  |                 [0.]  |     fixed     |        \n",
      "  \u001b[1mICM.B.kappa                 \u001b[0;0m  |    88.34806576245609  |      +ve      |        \n",
      "  \u001b[1mGaussian_noise.variance     \u001b[0;0m  |                0.001  |   +ve fixed   |        \n"
     ]
    }
   ],
   "source": [
    "print(m2)"
   ]
  },
  {
   "cell_type": "markdown",
   "metadata": {},
   "source": [
    "# Are BOSS experiments actually even reproducible?"
   ]
  },
  {
   "cell_type": "code",
   "execution_count": 31,
   "metadata": {},
   "outputs": [],
   "source": [
    "with open('../processed_data/other/baseline.json','r') as f:\n",
    "    exp1 = json.load(f)"
   ]
  },
  {
   "cell_type": "code",
   "execution_count": 32,
   "metadata": {},
   "outputs": [],
   "source": [
    "with open('../processed_data/other/baseline_reproduced.json','r') as f:\n",
    "    exp2 = json.load(f)"
   ]
  },
  {
   "cell_type": "code",
   "execution_count": 38,
   "metadata": {},
   "outputs": [
    {
     "data": {
      "text/plain": [
       "array([ 1.89549500e-09, -8.80765972e-04, -2.31809282e-02, -1.15019446e-03,\n",
       "       -1.96327299e-02, -1.39763708e-02, -1.28218114e-02, -7.43964548e-03,\n",
       "        7.24729361e-03,  7.18664088e-03,  2.37815100e-04,  3.47618093e-05,\n",
       "       -2.45790680e-03, -2.68149889e-03, -1.69670310e-03,  1.01352745e-03,\n",
       "        7.38144879e-04,  1.07260902e-03,  1.22287589e-03,  1.33843390e-03,\n",
       "        2.42579759e-03,  2.76952593e-03,  3.16177301e-03,  2.52231698e-03,\n",
       "        1.78597095e-03,  1.20632957e-03,  9.63994429e-04,  8.92826711e-04,\n",
       "        8.00117108e-04,  7.04704148e-04,  1.13782640e-05,  1.34552097e-06,\n",
       "       -2.19450765e-07, -2.04511664e-07, -1.99611786e-07, -1.92708019e-07,\n",
       "       -3.17295562e-07, -3.31018677e-07, -3.44007637e-07, -3.13544103e-07,\n",
       "       -2.96756295e-07, -2.88773410e-07, -3.09129398e-07, -3.34122936e-07,\n",
       "       -2.86652735e-07, -3.93617715e-07, -3.65058934e-07, -3.28737009e-07,\n",
       "       -3.04393545e-07, -3.05210555e-07, -2.92989037e-07, -3.35582197e-07,\n",
       "       -3.02316012e-07, -2.79206773e-07, -2.73335062e-07, -2.61150104e-07,\n",
       "       -2.54568588e-07, -2.46917848e-07, -2.51212107e-07, -2.63384299e-07,\n",
       "       -2.57800132e-07, -2.55876597e-07, -2.47036365e-07, -2.48476725e-07,\n",
       "       -3.27072313e-07, -3.13702479e-07, -3.29716626e-07, -3.19341108e-07,\n",
       "       -3.12924272e-07, -3.02406281e-07, -2.95424273e-07, -2.83691612e-07,\n",
       "       -2.80009307e-07, -2.17361626e-07, -2.18841248e-07, -2.10481623e-07,\n",
       "       -2.56599582e-07, -2.49740868e-07, -2.35516660e-07, -2.23535594e-07,\n",
       "       -2.20370943e-07, -2.12378183e-07, -2.11539143e-07, -1.78595720e-07,\n",
       "       -1.69971866e-07, -1.78604671e-07, -1.66601884e-07, -1.57811492e-07,\n",
       "       -1.53665139e-07, -1.52844857e-07, -1.48495183e-07, -1.43002604e-07,\n",
       "       -1.41486215e-07, -2.08419013e-07, -2.06217132e-07, -2.01466315e-07,\n",
       "       -1.97234168e-07, -1.82210197e-07, -1.60971745e-07, -1.62009147e-07,\n",
       "       -1.60500959e-07])"
      ]
     },
     "execution_count": 38,
     "metadata": {},
     "output_type": "execute_result"
    }
   ],
   "source": [
    "np.array(exp1['gmp'])[:,-1]-np.array(exp2['gmp'])[:,-1]"
   ]
  },
  {
   "cell_type": "code",
   "execution_count": 41,
   "metadata": {},
   "outputs": [
    {
     "data": {
      "text/plain": [
       "[<matplotlib.lines.Line2D at 0x1a1e44fad0>]"
      ]
     },
     "execution_count": 41,
     "metadata": {},
     "output_type": "execute_result"
    },
    {
     "data": {
      "image/png": "[encoded data removed]",
      "text/plain": [
       "<Figure size 432x288 with 1 Axes>"
      ]
     },
     "metadata": {
      "needs_background": "light"
     },
     "output_type": "display_data"
    }
   ],
   "source": [
    "fig, axs = plt.subplots(1)\n",
    "axs.plot(np.array(exp1['gmp'])[:,-1])\n",
    "axs.plot(np.array(exp2['gmp'])[:,-1])"
   ]
  },
  {
   "cell_type": "markdown",
   "metadata": {},
   "source": [
    "## BOSS\n",
    "Covariance function:\n",
    "\n",
    "Hyperparameter priors:\n",
    "$d = y_{max}-y_{min}$\\\n",
    "$var = gammadist(2, 2/(d/2)^2)$\\\n",
    "$lengthscales = [gammadist(3.3678, 9.0204)_1, ..., gammadist(3.3678, 9.0204)_{dim}]$\n"
   ]
  },
  {
   "cell_type": "code",
   "execution_count": 21,
   "metadata": {},
   "outputs": [
    {
     "ename": "IndentationError",
     "evalue": "unexpected indent (<ipython-input-21-d90899706c38>, line 3)",
     "output_type": "error",
     "traceback": [
      "\u001b[0;36m  File \u001b[0;32m\"<ipython-input-21-d90899706c38>\"\u001b[0;36m, line \u001b[0;32m3\u001b[0m\n\u001b[0;31m    if self.thetainit is None:\u001b[0m\n\u001b[0m    ^\u001b[0m\n\u001b[0;31mIndentationError\u001b[0m\u001b[0;31m:\u001b[0m unexpected indent\n"
     ]
    }
   ],
   "source": [
    "### STS thetainit\n",
    "# default initial hyperparameters\n",
    "        if self.thetainit is None:\n",
    "            self.thetainit = [0.5 * (self.yrange[1] - self.yrange[0])] # sig\n",
    "            for i in range(self.dim): # lengthscales\n",
    "                if self.kerntype[i] == 'stdp': # pbc\n",
    "                    self.thetainit.append(np.pi/10)\n",
    "                else: # nonpbc\n",
    "                    self.thetainit.append(self.periods[i]/20)\n",
    "\n",
    "\n",
    "### kernelfactory\n",
    "for i in range(STS.dim):\n",
    "            if forced_hypers is None:\n",
    "                if i == 0:\n",
    "                    Ksi = STS.thetainit[0]\n",
    "                else:\n",
    "                    Ksi = 1.0\n",
    "                Klsi = STS.thetainit[i + 1]\n",
    "            else:\n",
    "                Ksi = forced_hypers[0]\n",
    "                Klsi = forced_hypers[1 + i]\n",
    "            Kp = STS.periods[i]\n",
    "\n",
    "            if STS.kerntype[i] == \"stdp\":\n",
    "                kerns[i] = GPy.kern.StdPeriodic( ##########################\n",
    "                    input_dim=1,\n",
    "                    variance=Ksi,\n",
    "                    period=Kp,\n",
    "                    lengthscale=Klsi,\n",
    "                    ARD1=True,\n",
    "                    ARD2=True,\n",
    "                    active_dims=[i],\n",
    "                    name=\"kern\",\n",
    "                )\n",
    "                \n",
    "### GPy stdperiodic\n",
    "def __init__(self, input_dim, variance=1., period=None, lengthscale=None, ARD1=False, ARD2=False, active_dims=None, name='std_periodic',useGPU=False):\n",
    "        super(StdPeriodic, self).__init__(input_dim, active_dims, name, useGPU=useGPU)\n",
    "        self.ARD1 = ARD1 # correspond to periods\n",
    "        self.ARD2 = ARD2 # correspond to lengthscales\n",
    "\n",
    "        self.name = name\n",
    "\n",
    "        if self.ARD1 == False:\n",
    "            if period is not None: #### shared\n",
    "                period = np.asarray(period)\n",
    "                assert period.size == 1, \"Only one period needed for non-ARD kernel\"\n",
    "            else:\n",
    "                period = np.ones(1)\n",
    "        else:\n",
    "            if period is not None:\n",
    "                period = np.asarray(period)\n",
    "                assert period.size == input_dim, \"bad number of periods\"\n",
    "            else:\n",
    "                period = np.ones(input_dim)\n",
    "\n",
    "        if self.ARD2 == False: ##### shared\n",
    "            if lengthscale is not None:\n",
    "                lengthscale = np.asarray(lengthscale)\n",
    "                assert lengthscale.size == 1, \"Only one lengthscale needed for non-ARD kernel\"\n",
    "            else:\n",
    "                lengthscale = np.ones(1)\n",
    "        else:\n",
    "            if lengthscale is not None:\n",
    "                lengthscale = np.asarray(lengthscale)\n",
    "                assert lengthscale.size == input_dim, \"bad number of lengthscales\"\n",
    "            else:\n",
    "                lengthscale = np.ones(input_dim)\n",
    "\n",
    "        self.variance = Param('variance', variance, Logexp()) ############### variance\n",
    "        assert self.variance.size==1, \"Variance size must be one\"\n",
    "        self.period =  Param('period', period, Logexp())\n",
    "        self.lengthscale =  Param('lengthscale', lengthscale, Logexp())\n",
    "\n",
    "        self.link_parameters(self.variance,  self.period, self.lengthscale)\n"
   ]
  },
  {
   "cell_type": "code",
   "execution_count": null,
   "metadata": {},
   "outputs": [],
   "source": []
  },
  {
   "cell_type": "markdown",
   "metadata": {},
   "source": [
    "## BOSS-MT (currently)\n",
    "GPy defaults\n",
    "\n",
    "\n"
   ]
  },
  {
   "cell_type": "code",
   "execution_count": null,
   "metadata": {},
   "outputs": [],
   "source": [
    "#-- default hyperparameter priors\n",
    "        if self.thetapriorpar is None and self.thetaprior is not None:\n",
    "            if self.thetaprior == \"gamma\":\n",
    "                self.thetapriorpar = [[1,1]] # not used, but must be passed to kernelfactory initialized\n",
    "            else:\n",
    "                raise TypeError(\"Unknown options set for thetaprior: '\"\n",
    "                                + self.thetaprior + \"'.\")\n",
    "\n",
    "            for i in range(self.dim):\n",
    "                if self.thetaprior == \"gamma\":\n",
    "                    if self.kerntype[i] == 'stdp': # pbc\n",
    "                        shape = 3.3678\n",
    "                        rate = 9.0204\n",
    "                    else: # nonpbc\n",
    "                        shape, rate = Distributions.gammaparams(\n",
    "                            self.periods[i]/20, self.periods[i]/2\n",
    "                                                 )\n",
    "                    self.thetapriorpar.append([shape, rate])\n",
    "                else:\n",
    "                    raise TypeError(\"Unknown options set for \\\n",
    "                                    K_priortype: '\" + self.thetaprior + \"'.\")\n",
    "\n",
    "# default initial hyperparameters\n",
    "        if self.thetainit is None:\n",
    "            self.thetainit = [1] # var fixed, change kernel constructer later so that it does not need\n",
    "            for i in range(self.dim): # lengthscales\n",
    "                if self.kerntype[i] == 'stdp': # pbc\n",
    "                    self.thetainit.append(np.pi/10)\n",
    "                else: # nonpbc\n",
    "                    self.thetainit.append(self.periods[i]/20)\n",
    "\n",
    "\n",
    "### BOSS MT\n",
    "self.kernel = GPy.util.multioutput.LCM(dim, num_tasks, kernels_list, W_rank)\n",
    "        # set kernel variance fixed to 1 (gpy sets the same variance for all kernels)\n",
    "self.kernel.kern.variance.constrain_fixed(1)\n",
    "\n",
    "### multioutput\n",
    "def ICM(input_dim, num_outputs, kernel, W_rank=1,W=None,kappa=None,name='ICM'):\n",
    "    \"\"\"\n",
    "    Builds a kernel for an Intrinsic Coregionalization Model\n",
    "\n",
    "    :input_dim: Input dimensionality (does not include dimension of indices)\n",
    "    :num_outputs: Number of outputs\n",
    "    :param kernel: kernel that will be multiplied by the coregionalize kernel (matrix B).\n",
    "    :type kernel: a GPy kernel\n",
    "    :param W_rank: number tuples of the corregionalization parameters 'W'\n",
    "    :type W_rank: integer\n",
    "    \"\"\"\n",
    "    if kernel.input_dim != input_dim:\n",
    "        kernel.input_dim = input_dim\n",
    "        warnings.warn(\"kernel's input dimension overwritten to fit input_dim parameter.\")\n",
    "\n",
    "    K = kernel.prod(GPy.kern.Coregionalize(1, num_outputs, active_dims=[input_dim], rank=W_rank,W=W,kappa=kappa,name='B'),name=name)\n",
    "    return K\n",
    "def LCM(input_dim, num_outputs, kernels_list, W_rank=1,name='ICM'):\n",
    "    \"\"\"\n",
    "    Builds a kernel for an Linear Coregionalization Model\n",
    "\n",
    "    :input_dim: Input dimensionality (does not include dimension of indices)\n",
    "    :num_outputs: Number of outputs\n",
    "    :param kernel: kernel that will be multiplied by the coregionalize kernel (matrix B).\n",
    "    :type kernel: a GPy kernel\n",
    "    :param W_rank: number tuples of the corregionalization parameters 'W'\n",
    "    :type W_rank: integer\n",
    "    \"\"\"\n",
    "    Nk = len(kernels_list)\n",
    "    K = ICM(input_dim,num_outputs,kernels_list[0],W_rank,name='%s%s' %(name,0))\n",
    "    j = 1\n",
    "    for kernel in kernels_list[1:]:\n",
    "        K += ICM(input_dim,num_outputs,kernel,W_rank,name='%s%s' %(name,j))\n",
    "        j += 1\n",
    "    return K\n",
    "### coregionalize\n",
    "\n",
    "def __init__(self, input_dim, output_dim, rank=1, W=None, kappa=None, active_dims=None, name='coregion'):\n",
    "        super(Coregionalize, self).__init__(input_dim, active_dims, name=name)\n",
    "        self.output_dim = output_dim\n",
    "        self.rank = rank\n",
    "        if self.rank>output_dim:\n",
    "            print(\"Warning: Unusual choice of rank, it should normally be less than the output_dim.\")\n",
    "        if W is None:\n",
    "            W = 0.5*np.random.randn(self.output_dim, self.rank)/np.sqrt(self.rank)\n",
    "        else:\n",
    "            assert W.shape==(self.output_dim, self.rank)\n",
    "        self.W = Param('W', W)\n",
    "        if kappa is None:\n",
    "            kappa = 0.5*np.ones(self.output_dim)\n",
    "        else:\n",
    "            assert kappa.shape==(self.output_dim, )\n",
    "        self.kappa = Param('kappa', kappa, Logexp())\n",
    "        self.link_parameters(self.W, self.kappa)\n",
    "\n",
    "[docs]    def parameters_changed(self):\n",
    "        self.B = np.dot(self.W, self.W.T) + np.diag(self.kappa)"
   ]
  },
  {
   "cell_type": "code",
   "execution_count": null,
   "metadata": {},
   "outputs": [],
   "source": []
  },
  {
   "cell_type": "code",
   "execution_count": null,
   "metadata": {},
   "outputs": [],
   "source": []
  },
  {
   "cell_type": "markdown",
   "metadata": {},
   "source": [
    "## BOSS-MT (as should)"
   ]
  }
 ],
 "metadata": {
  "kernelspec": {
   "display_name": "Python 3",
   "language": "python",
   "name": "python3"
  },
  "language_info": {
   "codemirror_mode": {
    "name": "ipython",
    "version": 3
   },
   "file_extension": ".py",
   "mimetype": "text/x-python",
   "name": "python",
   "nbconvert_exporter": "python",
   "pygments_lexer": "ipython3",
   "version": "3.7.4"
  }
 },
 "nbformat": 4,
 "nbformat_minor": 2
}
