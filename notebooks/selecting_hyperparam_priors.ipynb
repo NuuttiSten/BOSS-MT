{
 "cells": [
  {
   "cell_type": "code",
   "execution_count": 1,
   "metadata": {},
   "outputs": [],
   "source": [
    "import numpy as np\n",
    "import GPy\n",
    "import json\n",
    "import matplotlib.pyplot as plt\n",
    "from scipy.stats import pearsonr"
   ]
  },
  {
   "cell_type": "markdown",
   "metadata": {},
   "source": [
    "Problem?\\\n",
    "1-task ICM does not perform as well as SOGP in BOSS MT\\\n",
    "Solution?\\\n",
    "Fix hyperparameters so that $\\bf{B} = [var]$"
   ]
  },
  {
   "cell_type": "markdown",
   "metadata": {},
   "source": [
    "# Covariance functions\n",
    "\n",
    "## RBF\n",
    "\n",
    "$k_{RBF}(x,x') = \\sigma^2e^{-(x-x')^2/2L^2}$\n",
    "\n",
    "where\\\n",
    "$\\sigma^2 = $ variance, scaling factor\\\n",
    "$L = $ lenghtscale, 'smoothness': large $L$ = smooth curve\n",
    "\n",
    "## STDP\n",
    "\n",
    "$k_{STDP}(x,x') = \\sigma^2e^{-2\\text{sin}^2(\\pi|x-x'|)/pL^2}$\n",
    "\n",
    "where\\\n",
    "$p = $ period\n",
    "\n",
    "covariance functions may also be more complex, or they can be added or multiplied together for example to add support for multiple dimensions.\n"
   ]
  },
  {
   "cell_type": "markdown",
   "metadata": {},
   "source": [
    "# SOGP kernel\n",
    "\n",
    "$\\bf{K} = \\begin{pmatrix}\n",
    "    k(\\textbf{x}_1,\\textbf{x}_1) & \\dots & k(\\textbf{x}_1,\\textbf{x}_N) \\\\\n",
    "    \\vdots & \\ddots & \\vdots \\\\\n",
    "    k(\\textbf{x}_N,\\textbf{x}_1) & \\dots & k(\\textbf{x}_N,\\textbf{x}_N) \\\\\n",
    "    \\end{pmatrix}$,\n",
    "\n",
    "where $N = $ number of inputs and\n",
    "$k(\\bf{x},\\bf{x}') = $ valid covariance function for vector input $\\bf{x} \\in \\mathbf{R}^d$"
   ]
  },
  {
   "cell_type": "markdown",
   "metadata": {},
   "source": [
    "# Coregionalization kernels\n",
    "\n",
    "Kernel and coregionalization matrix produce MT kernel.\\\n",
    "Now coregionalization matrix consumes the variance $\\sigma^2$, so it is fixed to one in the covariance functions.\n",
    "\n",
    "## LCM kernel\n",
    "\n",
    "$\\bf{K}_{LMC} = \\sum_{q=1}^{Q}\\bf{B}_q\\otimes\\bf{K}_q$ (see Kronecker product below)\n",
    "\n",
    "## ICM kernel (Q = 1)\n",
    "\n",
    "$\\bf{K}_{IMC} = \\bf{B}_1\\otimes\\bf{K}_1$\n",
    "\n",
    "### Coregionalization matrix $\\bf{B}_q$:\n",
    "$\\bf{B}_q = \\bf{W}_q\\bf{W}_q^\\top$\\\n",
    "or (how it is in GPy, I have not yet found original source to this, althought it makes sense)\\\n",
    "$\\bf{B}_q = \\bf{W}_q\\bf{W}_q^\\top + diag(\\bf{\\kappa})$\n",
    "\n",
    "where:\\\n",
    "$\\bf{W}_q \\in \\mathbf{R}^{num\\_tasks\\times num_tasks}$ encodes correlation between tasks and has rank r, (autocorrelation, correlation, correlation, autocorrelation)\\\n",
    "$\\bf{\\kappa} \\in \\mathbf{R}^{num\\_tasks}$ allows independence (or variance) of tasks, and\\\n",
    "$r \\in \\{1,...,num\\_tasks\\}$ is a grouping/complexity factor that may be used to group tasks that share covariance functions\n",
    "\n",
    "### Kronecker product $\\otimes$\n",
    "\n",
    "$\\begin{pmatrix} a & b \\\\ c & d\\end{pmatrix} \\otimes \\begin{pmatrix} 1 & 2 \\\\ 3 & 4 \\end{pmatrix} = \\begin{pmatrix}  a1 & a2 & b1 & b2 \\\\ a3 & a4 & b3 & b4 \\\\ c1 & c2 & d1 & d2 \\\\ c3 & c4 & d3 & d4 \\end{pmatrix}$\n",
    "\n",
    "%\\cite{harville1997matrix}\n",
    "(harville1997matrix pp 333-"
   ]
  },
  {
   "cell_type": "code",
   "execution_count": null,
   "metadata": {},
   "outputs": [],
   "source": []
  },
  {
   "cell_type": "code",
   "execution_count": null,
   "metadata": {},
   "outputs": [],
   "source": []
  },
  {
   "cell_type": "code",
   "execution_count": null,
   "metadata": {},
   "outputs": [],
   "source": []
  },
  {
   "cell_type": "markdown",
   "metadata": {},
   "source": [
    "# GPr\n",
    "\n",
    "Prior predictive for new observations:\n",
    "\n",
    "\\begin{equation}p(y_*,\\textbf{y}|\\textbf{x}_*,\\textbf{X})\n",
    "    \\sim\n",
    "    N\\begin{pmatrix}\n",
    "    \\begin{matrix}\n",
    "    m(\\textbf{x}_1) \\\\ \\vdots \\\\ m(\\textbf{x}_j) \\\\ m(\\textbf{x}_*)\n",
    "    \\end{matrix}\n",
    "    ,\n",
    "    \\begin{matrix}\n",
    "        \\begin{pmatrix}\n",
    "        k(\\textbf{x}_1,\\textbf{x}_1) & \\dots & k(\\textbf{x}_1,\\textbf{x}_j) \\\\\n",
    "        \\vdots & \\ddots & \\vdots \\\\\n",
    "        k(\\textbf{x}_j,\\textbf{x}_1) & \\dots & k(\\textbf{x}_j,\\textbf{x}_j) \\\\\n",
    "        \\end{pmatrix}\n",
    "        \\begin{pmatrix}\n",
    "        k(\\textbf{x}_1,\\textbf{x}_*) \\\\ \\vdots \\\\ k(\\textbf{x}_j,\\textbf{x}_*)\n",
    "        \\end{pmatrix}\n",
    "        \\\\\n",
    "        \\begin{pmatrix}\n",
    "        k(\\textbf{x}_*,\\textbf{x}_1) & \\dots & k(\\textbf{x}_*,\\textbf{x}_j) \\\\\n",
    "        \\end{pmatrix}\n",
    "        \\begin{pmatrix}\n",
    "        k(\\textbf{x}_*,\\textbf{x}_*)\n",
    "        \\end{pmatrix}\n",
    "    \\end{matrix}\n",
    "    \\end{pmatrix}\n",
    "    =\n",
    "    N\\begin{pmatrix}\n",
    "    \\begin{vmatrix}\n",
    "    \\bf{\\mu} \\\\ \\mu_*\n",
    "    \\end{vmatrix}\n",
    "    ,\n",
    "    \\begin{vmatrix}\n",
    "        \\mathbf{K}\n",
    "        & \n",
    "        \\mathbf{K_*^\\top}\n",
    "        \\\\\n",
    "        \\mathbf{K_*}\n",
    "        &\n",
    "        \\mathbf{K_{**}}\n",
    "    \\end{vmatrix}\n",
    "    \\end{pmatrix}\n",
    "    .\n",
    "\\end{equation}\n",
    "\n",
    "Posterior predictive:\\\n",
    "\\begin{equation}\n",
    "     p(y_*|\\textbf{x}_*,\\textbf{X},\\textbf{y}) \\sim N(\\hat\\mu,\\hat\\nu).\n",
    "\\end{equation}"
   ]
  },
  {
   "cell_type": "markdown",
   "metadata": {},
   "source": [
    "The distribution parameters can be solved from:\n",
    "\n",
    "\\begin{equation}\n",
    "\\label{muhatsolution}\n",
    "    \\hat\\mu = \\mathbf{K}_*^\\top\\mathbf{K}^{-1}(\\textbf{y}-\\bf{\\mu})+\\mu_*\n",
    "\\end{equation}\n",
    "and\n",
    "\\begin{equation}\n",
    "\\label{nuhatsolution}\n",
    "    \\hat\\nu = \\mathbf{K}_*^\\top\\mathbf{K}^{-1}\\mathbf{K}_* + \\mathbf{K}_{**}.\n",
    "\\end{equation}"
   ]
  },
  {
   "cell_type": "markdown",
   "metadata": {},
   "source": [
    "## Coregionalization matrix with different setups"
   ]
  },
  {
   "cell_type": "code",
   "execution_count": 2,
   "metadata": {},
   "outputs": [],
   "source": [
    "def coreg_B(W, kappa):\n",
    "    print(\"W = \\n\", W)\n",
    "    print(\"kappa = \", kappa)\n",
    "    print(\"WW^T = \\n\", W.dot(W.T))\n",
    "    print(\"diag(kappa) = \\n\", np.diag(kappa))\n",
    "    print(\"B = WW^T + diag(kappa) = \\n\", W.dot(W.transpose())+np.diag(kappa))\n",
    "    return W.dot(W.transpose())+np.diag(kappa)"
   ]
  },
  {
   "cell_type": "markdown",
   "metadata": {},
   "source": [
    "### 1 task, Q = 1, r = 1\n"
   ]
  },
  {
   "cell_type": "markdown",
   "metadata": {},
   "source": [
    "$\\mathbf{W} = [w]$\\\n",
    "$\\vec{\\kappa} = [\\kappa]$\\\n",
    "$\\mathbf{B} = [b_{1,1}] = [w^2+\\kappa]$\\\n",
    "$\\mathbf{K}_\\text{ICM} = b_{1,1}\\mathbf{K}$\n",
    "\n",
    "if $w1 = 0$, then\\\n",
    "$\\mathbf{K}_\\text{ICM} = \\kappa\\mathbf{K}$\\\n",
    "and thus $\\kappa$ takes the role of variance $\\sigma^2$ that was fixed to one."
   ]
  },
  {
   "cell_type": "code",
   "execution_count": 3,
   "metadata": {},
   "outputs": [
    {
     "name": "stdout",
     "output_type": "stream",
     "text": [
      "W = \n",
      " [1]\n",
      "kappa =  [0.5]\n",
      "WW^T = \n",
      " 1\n",
      "diag(kappa) = \n",
      " [[0.5]]\n",
      "B = WW^T + diag(kappa) = \n",
      " [[1.5]]\n"
     ]
    }
   ],
   "source": [
    "W = np.array([1])\n",
    "kappa = np.array([0.5])\n",
    "B = coreg_B(W, kappa)"
   ]
  },
  {
   "cell_type": "markdown",
   "metadata": {},
   "source": [
    "### 2 tasks, Q = 1, r = 1"
   ]
  },
  {
   "cell_type": "markdown",
   "metadata": {},
   "source": [
    "$\\mathbf{W} = \\begin{pmatrix} w_1 & w_2 \\\\ c*w_1 & c*w_2 \\end{pmatrix}, c \\in \\bf{R}$\n",
    "\n",
    "$\\mathbf{W}\\mathbf{W}^\\top = \\begin{pmatrix} w_1^2+w_2^2 & c*(w_1^2+w_2^2) \\\\ c*(w_1^2+w_2^2) & c^2(w_1^2+w_2^2) \\end{pmatrix}$\n",
    "\n",
    "$\\vec{\\kappa} = [\\kappa_1\\ \\kappa_2]$\n",
    "\n",
    "$diag(\\vec{\\kappa}) = \\begin{pmatrix} \\kappa_1 & 0 \\\\ 0 & \\kappa_2\\end{pmatrix}$\n",
    "\n",
    "$\\mathbf{B} = \\begin{pmatrix} b_{1,1} & b_{1,2}\\\\\n",
    "b_{2,1} & b_{2,2}\\end{pmatrix} = \\begin{pmatrix}w_1^2 + w_2^2 + \\kappa_1 & w_1^2 + w_2^2 \\\\\n",
    "w_1^2 + w_2^2 & w_1^2 + w_2^2 +\\kappa_2 \\end{pmatrix}$\n",
    "\n",
    "$\\mathbf{K}_\\text{ICM} = \\begin{pmatrix} b_{1,1}\\mathbf{K} & b_{1,2}\\mathbf{K}\\\\\n",
    "b_{2,1}\\mathbf{K} & b_{2,2}\\mathbf{K}\\end{pmatrix}$\n"
   ]
  },
  {
   "cell_type": "code",
   "execution_count": 4,
   "metadata": {},
   "outputs": [
    {
     "name": "stdout",
     "output_type": "stream",
     "text": [
      "W = \n",
      " [[0.5 0.7]\n",
      " [0.5 0.7]]\n",
      "kappa =  [0.1 0.2]\n",
      "WW^T = \n",
      " [[0.74 0.74]\n",
      " [0.74 0.74]]\n",
      "diag(kappa) = \n",
      " [[0.1 0. ]\n",
      " [0.  0.2]]\n",
      "B = WW^T + diag(kappa) = \n",
      " [[0.84 0.74]\n",
      " [0.74 0.94]]\n"
     ]
    }
   ],
   "source": [
    "W = np.array([[0.5,0.7],[0.5,0.7]])\n",
    "kappa = np.array([0.1, 0.2])\n",
    "B = coreg_B(W, kappa)"
   ]
  },
  {
   "cell_type": "markdown",
   "metadata": {},
   "source": [
    "### 2 tasks, Q = 1, r = 2"
   ]
  },
  {
   "cell_type": "markdown",
   "metadata": {},
   "source": [
    "$\\mathbf{W} = \\begin{pmatrix}w_{1,1} & w_{1,2} \\\\ w_{2,1} & w_{2,2}\\end{pmatrix}$\n",
    "\n",
    "$\\mathbf{W}\\mathbf{W}^\\top = \\begin{pmatrix}w_{1,1}^2 + w_{1,2}^2 & w_{1,1}w_{2,1} + w_{1,2}w_{2,2}\\\\ w_{1,1}w_{2,1} + w_{1,2}w_{2,2} & w_{2,1}^2 + w_{2,2}^2\\end{pmatrix}$\n",
    "\n",
    "Does rank >1 allow more independence already in the correlation part, without kappa?\n",
    "\n",
    "$\\vec{\\kappa} = [\\kappa_1\\ \\kappa_2]$\n",
    "\n",
    "$diag(\\vec{\\kappa}) = \\begin{pmatrix} \\kappa_1 & 0 \\\\ 0 & \\kappa_2\\end{pmatrix}$\n",
    "\n",
    "$\\mathbf{B} = \\begin{pmatrix} b_{1,1} & b_{1,2}\\\\\n",
    "b_{2,1} & b_{2,2}\\end{pmatrix} = \\begin{pmatrix}w_{1,1}^2 + w_{1,2}^2 + \\kappa_1 & w_{1,1}w_{2,1} + w_{1,2}w_{2,2}\\\\ w_{1,1}w_{2,1} + w_{1,2}w_{2,2} & w_{2,1}^2 + w_{2,2}^2 + \\kappa_2 \\end{pmatrix}$\n",
    "\n",
    "$\\mathbf{K}_\\text{ICM} = \\begin{pmatrix} b_{1,1}\\mathbf{K} & b_{1,2}\\mathbf{K}\\\\\n",
    "b_{2,1}\\mathbf{K} & b_{2,2}\\mathbf{K}\\end{pmatrix}$\n",
    "\n"
   ]
  },
  {
   "cell_type": "code",
   "execution_count": 5,
   "metadata": {},
   "outputs": [
    {
     "name": "stdout",
     "output_type": "stream",
     "text": [
      "W = \n",
      " [[0.5 0. ]\n",
      " [0.5 0. ]]\n",
      "kappa =  [0.1 0.2]\n",
      "WW^T = \n",
      " [[0.25 0.25]\n",
      " [0.25 0.25]]\n",
      "diag(kappa) = \n",
      " [[0.1 0. ]\n",
      " [0.  0.2]]\n",
      "B = WW^T + diag(kappa) = \n",
      " [[0.35 0.25]\n",
      " [0.25 0.45]]\n"
     ]
    }
   ],
   "source": [
    "# len(kappa) = 2\n",
    "W = np.array([[0.5,0],[0.5,0]])\n",
    "kappa = np.array([0.1, 0.2])\n",
    "B = coreg_B(W, kappa)"
   ]
  },
  {
   "cell_type": "markdown",
   "metadata": {},
   "source": [
    "### 1 task, Q = 2, r = 1 (LMC) ! definitely overfitting, but just to show how it works"
   ]
  },
  {
   "cell_type": "markdown",
   "metadata": {},
   "source": [
    "$\\mathbf{W}^{q_1} = [w^{q_1}]$\n",
    "\n",
    "$\\mathbf{W}^{q_2} = [w^{q_2}]$\n",
    "\n",
    "$\\vec{\\kappa}^{q_1} = [\\kappa^{q_1}]$\n",
    "\n",
    "$\\vec{\\kappa}^{q_2} = [\\kappa^{q_2}]$\n",
    "\n",
    "$\\mathbf{B}^{q_1} = [b^{q_1}_{1,1}] = [{w^{q_1}}^2+\\kappa^{q_1}]$\n",
    "\n",
    "$\\mathbf{B}^{q_2} = [b^{q_2}_{1,1}] = [{w^{q_2}}^2+\\kappa^{q_2}]$\n",
    "\n",
    "$\\mathbf{K}_\\text{LCM} = \\sum_{q=1}^2{b^q\\otimes\\bf{K}} = b^{q_1}_{1,1}\\mathbf{K} + b^{q_2}_{1,1}\\mathbf{K} = (b^{q_1}_{1,1}+b^{q_2}_{1,1})\\mathbf{K}$\n"
   ]
  },
  {
   "cell_type": "markdown",
   "metadata": {},
   "source": [
    "### 2 tasks, Q = 2, r = 1 (LMC)"
   ]
  },
  {
   "cell_type": "markdown",
   "metadata": {},
   "source": [
    "$\\mathbf{W}^q = \\begin{pmatrix} w^q_1 & w^q_2 \\\\ w^q_1 & w^q_2 \\end{pmatrix}$\n",
    "\n",
    "$\\mathbf{W}^q{\\mathbf{W}^q}^\\top = \\begin{pmatrix} {w^q_1}^2+{w^q_2}^2 & {w^q_1}^2+{w^q_2}^2 \\\\ {w^q_1}^2+{w^q_2}^2 & {w^q_1}^2+{w^q_2}^2\\end{pmatrix}$\n",
    "\n",
    "$\\vec{\\kappa}^q = [\\kappa^q_1\\ \\kappa^q_2]$\n",
    "\n",
    "$diag(\\vec{\\kappa}^q) = \\begin{pmatrix} \\kappa^q_1 & 0 \\\\ 0 & \\kappa^q_2\\end{pmatrix}$\n",
    "\n",
    "$\\mathbf{B}^q = \\begin{pmatrix} b^q_{1,1} & b^q_{1,2}\\\\\n",
    "b^q_{2,1} & b^q_{2,2}\\end{pmatrix} = \\begin{pmatrix} {w^q_1}^2+{w^q_2}^2+\\kappa^q_1 & {w^q_1}^2+{w^q_2}^2 \\\\ {w^q_1}^2+{w^q_2}^2 & {w^q_1}^2+{w^q_2}^2+\\kappa^q_2 \\end{pmatrix}$\n",
    "\n",
    "$\\mathbf{K}_\\text{LCM} = \\sum_{q=1}^2{\\bf{B}^q\\otimes\\bf{K}^{q}} = (\\bf{B}^{q_1}+\\bf{B}^{q_2})\\otimes(\\bf{K}^{q_1} + \\bf{K}^{q_2}) = \\begin{pmatrix} b^{q_1}_{1,1}\\mathbf{K}^{q_1}& b^{q_1}_{1,2}\\mathbf{K}^{q_1}\\\\\n",
    "b^{q_1}_{2,1}\\mathbf{K}^{q_1} & b^{q_1}_{2,2}\\mathbf{K}^{q_2}\\end{pmatrix}+\\begin{pmatrix} b^{q_2}_{1,1}\\mathbf{K}^{q_2}& b^{q_2}_{1,2}\\mathbf{K}^{q_2}\\\\\n",
    "b^{q_2}_{2,1}\\mathbf{K}^{q_2} & b^{q_2}_{2,2}\\mathbf{K}^{q_2}\\end{pmatrix} $\n",
    "\n",
    "So, with Q >1 you basically need to have different basic kernels that you wish to combine!\n"
   ]
  },
  {
   "cell_type": "markdown",
   "metadata": {},
   "source": [
    "# Experimenting with kernels"
   ]
  },
  {
   "cell_type": "markdown",
   "metadata": {},
   "source": [
    "## Kappa and W"
   ]
  },
  {
   "cell_type": "markdown",
   "metadata": {},
   "source": [
    "## Load data"
   ]
  },
  {
   "cell_type": "code",
   "execution_count": 6,
   "metadata": {},
   "outputs": [],
   "source": [
    "# load data\n",
    "def load_data(filepath):\n",
    "    exp = {}\n",
    "    with open(filepath,'r') as f:\n",
    "        data = json.load(f)\n",
    "        xy = np.array(data['xy'])\n",
    "        x1 = xy[:,:-1]\n",
    "        x1 = np.hstack((x1, np.zeros((len(x1),1))))\n",
    "        y1 = xy[:,-1]\n",
    "        y1 = y1.reshape(len(y1),1)\n",
    "        exp['x'] = x1\n",
    "        exp['y'] = y1\n",
    "        exp['initpts'] = data['initpts']\n",
    "        exp['gp_hyperparam'] = np.array(data['GP_hyperparam'])\n",
    "        data = None\n",
    "    return exp"
   ]
  },
  {
   "cell_type": "code",
   "execution_count": 7,
   "metadata": {},
   "outputs": [],
   "source": [
    "x1 = x2 = None\n",
    "y1 = y2 = None"
   ]
  },
  {
   "cell_type": "code",
   "execution_count": 8,
   "metadata": {},
   "outputs": [],
   "source": [
    "exp = load_data('../processed_data/sobol_queue/alanine2D_HF_sobol.json')\n",
    "x1 = exp['x']\n",
    "y1 = exp['y']"
   ]
  },
  {
   "cell_type": "code",
   "execution_count": 9,
   "metadata": {},
   "outputs": [],
   "source": [
    "exp = load_data('../processed_data/sobol_queue/alanine2D_LF_sobol.json')\n",
    "x2 = exp['x']\n",
    "y2 = exp['y']"
   ]
  },
  {
   "cell_type": "code",
   "execution_count": 10,
   "metadata": {},
   "outputs": [],
   "source": [
    "#y1"
   ]
  },
  {
   "cell_type": "markdown",
   "metadata": {},
   "source": [
    "### Basic kernel"
   ]
  },
  {
   "cell_type": "code",
   "execution_count": 11,
   "metadata": {},
   "outputs": [],
   "source": [
    "#def __init__(self, input_dim, variance=1., period=None, lengthscale=None, ARD1=False, ARD2=False, active_dims=None, name='std_periodic',useGPU=False):\n",
    "#        super(StdPeriodic, self).__init__(input_dim, active_dims, name, useGPU=useGPU\n",
    "input_dim = 2\n",
    "variance = 1\n",
    "basic_kernel = GPy.kern.src.standard_periodic.StdPeriodic(input_dim, period = 360)"
   ]
  },
  {
   "cell_type": "code",
   "execution_count": 12,
   "metadata": {},
   "outputs": [
    {
     "name": "stdout",
     "output_type": "stream",
     "text": [
      "  \u001b[1mstd_periodic.\u001b[0;0m  |  value  |  constraints  |  priors\n",
      "  \u001b[1mvariance     \u001b[0;0m  |    1.0  |      +ve      |        \n",
      "  \u001b[1mperiod       \u001b[0;0m  |  360.0  |      +ve      |        \n",
      "  \u001b[1mlengthscale  \u001b[0;0m  |    1.0  |      +ve      |        \n"
     ]
    }
   ],
   "source": [
    "print(basic_kernel)"
   ]
  },
  {
   "cell_type": "markdown",
   "metadata": {},
   "source": [
    "### ICM kernel"
   ]
  },
  {
   "cell_type": "code",
   "execution_count": 13,
   "metadata": {},
   "outputs": [
    {
     "name": "stdout",
     "output_type": "stream",
     "text": [
      "  \u001b[1mICM.                    \u001b[0;0m  |         value  |  constraints  |  priors\n",
      "  \u001b[1mstd_periodic.variance   \u001b[0;0m  |           1.0  |      +ve      |        \n",
      "  \u001b[1mstd_periodic.period     \u001b[0;0m  |         360.0  |      +ve      |        \n",
      "  \u001b[1mstd_periodic.lengthscale\u001b[0;0m  |           1.0  |      +ve      |        \n",
      "  \u001b[1mB.W                     \u001b[0;0m  |  [0.77530232]  |               |        \n",
      "  \u001b[1mB.kappa                 \u001b[0;0m  |           0.5  |      +ve      |        \n"
     ]
    }
   ],
   "source": [
    "ICM1 = GPy.util.multioutput.ICM(input_dim=2,num_outputs=1,kernel=basic_kernel.copy())\n",
    "print(ICM1)"
   ]
  },
  {
   "cell_type": "markdown",
   "metadata": {},
   "source": [
    "### Baseline"
   ]
  },
  {
   "cell_type": "code",
   "execution_count": 14,
   "metadata": {},
   "outputs": [
    {
     "name": "stdout",
     "output_type": "stream",
     "text": [
      "\n",
      "Name : baseline_1task\n",
      "Objective : 165.8538650632898\n",
      "Number of Parameters : 4\n",
      "Number of Optimization Parameters : 3\n",
      "Updates : True\n",
      "Parameters:\n",
      "  \u001b[1mbaseline_1task.         \u001b[0;0m  |                value  |  constraints  |  priors\n",
      "  \u001b[1mstd_periodic.variance   \u001b[0;0m  |    92.36546485400197  |      +ve      |        \n",
      "  \u001b[1mstd_periodic.period     \u001b[0;0m  |   360.03808819992565  |      +ve      |        \n",
      "  \u001b[1mstd_periodic.lengthscale\u001b[0;0m  |  0.48253798738813264  |      +ve      |        \n",
      "  \u001b[1mGaussian_noise.variance \u001b[0;0m  |                1e-12  |   +ve fixed   |        \n"
     ]
    }
   ],
   "source": [
    "b1 = GPy.core.gp.GP(\n",
    "            X = x1[:,:2].copy(),\n",
    "            Y = y1.copy(),\n",
    "            kernel = basic_kernel.copy(),\n",
    "            likelihood = GPy.likelihoods.gaussian.Gaussian(),\n",
    "            inference_method = GPy.inference.latent_function_inference.ExactGaussianInference(),\n",
    "        name = \"baseline_1task\")\n",
    "b1['.*variance'][0] = np.max(y1) - np.min(y1)\n",
    "noise = 1e-12\n",
    "b1.likelihood.fix(noise)\n",
    "b1.optimize()\n",
    "print(b1)"
   ]
  },
  {
   "cell_type": "code",
   "execution_count": 15,
   "metadata": {},
   "outputs": [
    {
     "data": {
      "text/plain": [
       "0.00017565309600797718"
      ]
     },
     "execution_count": 15,
     "metadata": {},
     "output_type": "execute_result"
    }
   ],
   "source": [
    "87.10040125239115-87.10022559929514"
   ]
  },
  {
   "cell_type": "code",
   "execution_count": 16,
   "metadata": {},
   "outputs": [
    {
     "data": {
      "text/plain": [
       "5.010000009519899e-06"
      ]
     },
     "execution_count": 16,
     "metadata": {},
     "output_type": "execute_result"
    }
   ],
   "source": [
    "88.3480006-88.34799559"
   ]
  },
  {
   "cell_type": "markdown",
   "metadata": {},
   "source": [
    "### 1 task, as in MT now, W not fixed to 0 but kappa initialized to basic kernel variance"
   ]
  },
  {
   "cell_type": "code",
   "execution_count": 46,
   "metadata": {},
   "outputs": [
    {
     "name": "stdout",
     "output_type": "stream",
     "text": [
      "\n",
      "Name : ICM_1task\n",
      "Objective : 166.56781392868265\n",
      "Number of Parameters : 6\n",
      "Number of Optimization Parameters : 4\n",
      "Updates : True\n",
      "Parameters:\n",
      "  \u001b[1mICM_1task.                  \u001b[0;0m  |               value  |  constraints  |  priors\n",
      "  \u001b[1mICM.std_periodic.variance   \u001b[0;0m  |                 1.0  |   +ve fixed   |        \n",
      "  \u001b[1mICM.std_periodic.period     \u001b[0;0m  |   360.1453544421176  |      +ve      |        \n",
      "  \u001b[1mICM.std_periodic.lengthscale\u001b[0;0m  |  0.4852881134389753  |      +ve      |        \n",
      "  \u001b[1mICM.B.W                     \u001b[0;0m  |        [8.14209824]  |               |        \n",
      "  \u001b[1mICM.B.kappa                 \u001b[0;0m  |   27.58079460121227  |      +ve      |        \n",
      "  \u001b[1mGaussian_noise.variance     \u001b[0;0m  |               0.001  |   +ve fixed   |        \n"
     ]
    }
   ],
   "source": [
    "m1 = GPy.core.gp.GP(\n",
    "            X = x1.copy(),\n",
    "            Y = y1.copy(),\n",
    "            kernel = ICM1.copy(),\n",
    "            likelihood = GPy.likelihoods.gaussian.Gaussian(),\n",
    "            inference_method = GPy.inference.latent_function_inference.ExactGaussianInference(),\n",
    "        name = \"ICM_1task\")\n",
    "m1['.*variance'].constrain_fixed(1.) #For this kernel, B.kappa encodes the variance now.\n",
    "m1['.*kappa'][0] = np.max(y1) - np.min(y1) # initialize kappa as variance\n",
    "m1.likelihood.fix(noise)\n",
    "m1.optimize()\n",
    "print(m1)"
   ]
  },
  {
   "cell_type": "code",
   "execution_count": 45,
   "metadata": {},
   "outputs": [
    {
     "name": "stdout",
     "output_type": "stream",
     "text": [
      "[[25.0972762]]\n"
     ]
    }
   ],
   "source": [
    "print(m1.kern.B.B)"
   ]
  },
  {
   "cell_type": "code",
   "execution_count": 19,
   "metadata": {},
   "outputs": [
    {
     "data": {
      "text/plain": [
       "-0.0019342333860078442"
      ]
     },
     "execution_count": 19,
     "metadata": {},
     "output_type": "execute_result"
    }
   ],
   "source": [
    "0.4360488260071347-0.4379830593931425"
   ]
  },
  {
   "cell_type": "markdown",
   "metadata": {},
   "source": [
    "### 1 task, Q =1, r = 1, W fixed to zero"
   ]
  },
  {
   "cell_type": "code",
   "execution_count": 20,
   "metadata": {},
   "outputs": [
    {
     "name": "stdout",
     "output_type": "stream",
     "text": [
      "\n",
      "Name : ICM_1task\n",
      "Objective : 165.85386506464314\n",
      "Number of Parameters : 6\n",
      "Number of Optimization Parameters : 3\n",
      "Updates : True\n",
      "Parameters:\n",
      "  \u001b[1mICM_1task.                  \u001b[0;0m  |                value  |  constraints  |  priors\n",
      "  \u001b[1mICM.std_periodic.variance   \u001b[0;0m  |                  1.0  |   +ve fixed   |        \n",
      "  \u001b[1mICM.std_periodic.period     \u001b[0;0m  |     360.038082220777  |      +ve      |        \n",
      "  \u001b[1mICM.std_periodic.lengthscale\u001b[0;0m  |  0.48253864425320925  |      +ve      |        \n",
      "  \u001b[1mICM.B.W                     \u001b[0;0m  |                 [0.]  |     fixed     |        \n",
      "  \u001b[1mICM.B.kappa                 \u001b[0;0m  |    92.36657062899745  |      +ve      |        \n",
      "  \u001b[1mGaussian_noise.variance     \u001b[0;0m  |                1e-12  |   +ve fixed   |        \n"
     ]
    }
   ],
   "source": [
    "m2 = GPy.core.gp.GP(\n",
    "            X = x1.copy(),\n",
    "            Y = y1.copy(),\n",
    "            kernel = ICM1.copy(),\n",
    "            likelihood = GPy.likelihoods.gaussian.Gaussian(),\n",
    "            inference_method = GPy.inference.latent_function_inference.ExactGaussianInference(),\n",
    "        name = \"ICM_1task\")\n",
    "m2['.*variance'].constrain_fixed(1.) #For this kernel, B.kappa encodes the variance now.\n",
    "m2['.*W'].constrain_fixed(0)\n",
    "m2['.*kappa'][0] = np.max(y1) - np.min(y1) # initialize kappa as variance\n",
    "m2.likelihood.fix(noise)\n",
    "m2.optimize()\n",
    "print(m2)"
   ]
  },
  {
   "cell_type": "code",
   "execution_count": 21,
   "metadata": {},
   "outputs": [
    {
     "name": "stdout",
     "output_type": "stream",
     "text": [
      "\n",
      "Name : ICM_1task\n",
      "Objective : 166.56781392884307\n",
      "Number of Parameters : 6\n",
      "Number of Optimization Parameters : 5\n",
      "Updates : True\n",
      "Parameters:\n",
      "  \u001b[1mICM_1task.                  \u001b[0;0m  |               value  |  constraints  |  priors\n",
      "  \u001b[1mICM.std_periodic.variance   \u001b[0;0m  |  3.5414971526560297  |      +ve      |        \n",
      "  \u001b[1mICM.std_periodic.period     \u001b[0;0m  |  360.14535388922616  |      +ve      |        \n",
      "  \u001b[1mICM.std_periodic.lengthscale\u001b[0;0m  |  0.4852879651782167  |      +ve      |        \n",
      "  \u001b[1mICM.B.W                     \u001b[0;0m  |        [5.08334264]  |               |        \n",
      "  \u001b[1mICM.B.kappa                 \u001b[0;0m  |  0.6666678339507075  |      +ve      |        \n",
      "  \u001b[1mGaussian_noise.variance     \u001b[0;0m  |               0.001  |   +ve fixed   |        \n"
     ]
    }
   ],
   "source": [
    "m3 = GPy.core.gp.GP(\n",
    "            X = x1.copy(),\n",
    "            Y = y1.copy(),\n",
    "            kernel = ICM1.copy(),\n",
    "            likelihood = GPy.likelihoods.gaussian.Gaussian(),\n",
    "            inference_method = GPy.inference.latent_function_inference.ExactGaussianInference(),\n",
    "        name = \"ICM_1task\")\n",
    "#m3['.*variance'].constrain_fixed(1.) #For this kernel, B.kappa encodes the variance now.\n",
    "#m3['.*kappa'][0] = np.max(y1) - np.min(y1) # initialize kappa as variance\n",
    "noise = 0.001\n",
    "m3.likelihood.fix(noise)\n",
    "m3.optimize()\n",
    "print(m3)"
   ]
  },
  {
   "cell_type": "code",
   "execution_count": 22,
   "metadata": {},
   "outputs": [
    {
     "data": {
      "text/plain": [
       "88.34803548660976"
      ]
     },
     "execution_count": 22,
     "metadata": {},
     "output_type": "execute_result"
    }
   ],
   "source": [
    "3.7694438556268395*(4.71127017**2+1.2418830856538645)"
   ]
  },
  {
   "cell_type": "markdown",
   "metadata": {},
   "source": [
    "## B, covariance and correlation between tasks"
   ]
  },
  {
   "cell_type": "code",
   "execution_count": 23,
   "metadata": {},
   "outputs": [],
   "source": [
    "# load data"
   ]
  },
  {
   "cell_type": "code",
   "execution_count": 24,
   "metadata": {},
   "outputs": [],
   "source": [
    "LF2Ds = load_data('../processed_data/sobol_queue/alanine2D_LF_sobol.json')"
   ]
  },
  {
   "cell_type": "code",
   "execution_count": 25,
   "metadata": {},
   "outputs": [],
   "source": [
    "HF2Ds = load_data('../processed_data/sobol_queue/alanine2D_HF_sobol.json')"
   ]
  },
  {
   "cell_type": "code",
   "execution_count": 26,
   "metadata": {},
   "outputs": [],
   "source": [
    "LF4Ds = load_data('../processed_data/sobol_queue/alanine4D_LF_sobol.json')"
   ]
  },
  {
   "cell_type": "code",
   "execution_count": 27,
   "metadata": {},
   "outputs": [],
   "source": [
    "HF4Ds = load_data('../processed_data/sobol_queue/alanine4D_HF_sobol.json')"
   ]
  },
  {
   "cell_type": "code",
   "execution_count": null,
   "metadata": {},
   "outputs": [],
   "source": []
  },
  {
   "cell_type": "code",
   "execution_count": 28,
   "metadata": {},
   "outputs": [],
   "source": [
    "VHF4Ds = load_data('../processed_data/sobol_queue/alanine4D_VHF_sobol.json')"
   ]
  },
  {
   "cell_type": "code",
   "execution_count": 29,
   "metadata": {},
   "outputs": [],
   "source": [
    "import cython"
   ]
  },
  {
   "cell_type": "code",
   "execution_count": 60,
   "metadata": {},
   "outputs": [],
   "source": [
    "def B_cov_cor(task1, task2):\n",
    "    # iterate observations\n",
    "    # at each iteration, calculate covariance, pearsons correlation\n",
    "    #  add observations to MOGP\n",
    "    # save B\n",
    "    t1 = task1.copy()\n",
    "    t2 = task2.copy()\n",
    "    t1['x'][:,-1] = 0\n",
    "    t2['x'][:,-1] = 1\n",
    "    X1 = X2 = Y1 = Y2 = None\n",
    "    cov_iter = []\n",
    "    pearsonr_iter = []\n",
    "    B = []\n",
    "    \n",
    "    # create kernel\n",
    "    input_dim = t1['x'].shape[1]-1\n",
    "    kernel = GPy.kern.src.standard_periodic.StdPeriodic(input_dim, period = 360)\n",
    "    for _ in range(input_dim-1):\n",
    "        kernel = kernel.prod(kernel)\n",
    "    icm = GPy.util.multioutput.ICM(input_dim=input_dim,num_outputs=2,kernel=kernel.copy())\n",
    "\n",
    "\n",
    "\n",
    "    for i in range(2,len(t1['x'])):\n",
    "        X1 = t1['x'][:i+1]\n",
    "        X2 = t2['x'][:i+1]\n",
    "        Y1 = t1['y'][:i+1]\n",
    "        Y1 = Y1-np.mean(Y1)\n",
    "        Y2 = t2['y'][:i+1]\n",
    "        Y2 = Y2-np.mean(Y2)\n",
    "        # calculate covariance\n",
    "        cov_iter.append(np.cov(Y1.T, Y2.T).flatten())\n",
    "        # calculate pearsons correlation coefficient and P-values\n",
    "        pearsonr_iter.append(pearsonr(Y1.flatten(), Y2.flatten()))\n",
    "        # fit GP model with ICM and check B\n",
    "        X = np.vstack((X1.copy(), X2.copy()))\n",
    "        Y = np.hstack((Y1.copy(), Y2.copy()))\n",
    "        Y = np.reshape(Y, (-1,1))\n",
    "        m = GPy.core.gp.GP(\n",
    "            X, Y,\n",
    "            kernel = icm.copy(),\n",
    "            likelihood = GPy.likelihoods.gaussian.Gaussian(),\n",
    "            inference_method = GPy.inference.latent_function_inference.ExactGaussianInference()\n",
    "        )\n",
    "        m.Y_metadata = {'output_index':X[:,-1]}\n",
    "        m['.*variance'].constrain_fixed(1.) #For this kernel, B.kappa encodes the variance now.\n",
    "        m['.*W'][1,:].constrain_fixed(0.)\n",
    "        m['.*kappa'][0] = np.max(y1) - np.min(y1) # initialize kappa as variance\n",
    "        m.likelihood.fix(noise)\n",
    "        m.optimize()\n",
    "        print(m['.*W'])\n",
    "        # save B\n",
    "        B.append(m.kern.B.B.flatten())\n",
    "        \n",
    "    \n",
    "    cov_iter = np.array(cov_iter)\n",
    "    pearsonr_iter = np.array(pearsonr_iter)\n",
    "    B = np.array(B)\n",
    "    # return results\n",
    "    return {'cov':cov_iter, 'cor':pearsonr_iter, 'B':B}\n"
   ]
  },
  {
   "cell_type": "code",
   "execution_count": 31,
   "metadata": {},
   "outputs": [],
   "source": [
    "def plot_cov_B(covcorB):\n",
    "    cov_iter = covcorB['cov']\n",
    "    B = covcorB['B']\n",
    "    \n",
    "    fig, axs = plt.subplots(2,2,\n",
    "                figsize = (10,10),\n",
    "                sharex = 'all',\n",
    "                sharey = 'all')\n",
    "\n",
    "    # plot measured covariance\n",
    "    axs[0,0].hlines(y = cov_iter[-1,0],\n",
    "                    color = 'r', linestyle = 'dashed',\n",
    "                    xmin = 0, xmax = 100,\n",
    "                   label = 'autocovariance')\n",
    "    axs[0,1].hlines(y = cov_iter[-1,1],\n",
    "                    color = 'r', linestyle = 'dashed',\n",
    "                    xmin = 0, xmax = 100,\n",
    "                   label = 'cross covariance')\n",
    "    axs[1,0].hlines(y = cov_iter[-1,2],\n",
    "                    color = 'r', linestyle = 'dashed',\n",
    "                    xmin = 0, xmax = 100,\n",
    "                   label = 'cross covariance')\n",
    "    axs[1,1].hlines(y = cov_iter[-1,3],\n",
    "                    color = 'r', linestyle = 'dashed',\n",
    "                    xmin = 0, xmax = 100,\n",
    "                   label = 'autocovariance')\n",
    "    # plot B\n",
    "\n",
    "    axs[0,0].plot(B[:,0], color = 'blue',\n",
    "                 label = 'b11')\n",
    "    axs[0,1].plot(B[:,1], color = 'blue',\n",
    "                 label = 'b12')\n",
    "    axs[1,0].plot(B[:,2], color = 'blue',\n",
    "                 label = 'b21')\n",
    "    axs[1,1].plot(B[:,3], color = 'blue',\n",
    "                 label = 'b22')\n",
    "\n",
    "    for ax, enum in zip(axs.flatten(), ['a','b','c','d']):\n",
    "        ax.legend()\n",
    "        ax.set_title(f'{enum})', loc = 'left')\n",
    "        ax.spines['right'].set_visible(False)\n",
    "        ax.spines['top'].set_visible(False)\n",
    "        ax.set_xlabel(\"N\")"
   ]
  },
  {
   "cell_type": "code",
   "execution_count": 61,
   "metadata": {},
   "outputs": [
    {
     "name": "stdout",
     "output_type": "stream",
     "text": [
      "  \u001b[1mindex\u001b[0;0m  |  gp.ICM.B.W  |  constraints  |  priors\n",
      "  \u001b[1m[0 0]\u001b[0;0m  |  1.18815695  |               |        \n",
      "  \u001b[1m[1 0]\u001b[0;0m  |  0.00000000  |     fixed     |        \n",
      "  \u001b[1mindex\u001b[0;0m  |  gp.ICM.B.W  |  constraints  |  priors\n",
      "  \u001b[1m[0 0]\u001b[0;0m  |  1.52886914  |               |        \n",
      "  \u001b[1m[1 0]\u001b[0;0m  |  0.00000000  |     fixed     |        \n",
      "  \u001b[1mindex\u001b[0;0m  |    gp.ICM.B.W  |  constraints  |  priors\n",
      "  \u001b[1m[0 0]\u001b[0;0m  |   -0.01470391  |               |        \n",
      "  \u001b[1m[1 0]\u001b[0;0m  |    0.00000000  |     fixed     |        \n",
      "  \u001b[1mindex\u001b[0;0m  |  gp.ICM.B.W  |  constraints  |  priors\n",
      "  \u001b[1m[0 0]\u001b[0;0m  |  -2.69273026  |               |        \n",
      "  \u001b[1m[1 0]\u001b[0;0m  |  0.00000000  |     fixed     |        \n",
      "  \u001b[1mindex\u001b[0;0m  |  gp.ICM.B.W  |  constraints  |  priors\n",
      "  \u001b[1m[0 0]\u001b[0;0m  |  -2.74308347  |               |        \n",
      "  \u001b[1m[1 0]\u001b[0;0m  |  0.00000000  |     fixed     |        \n",
      "  \u001b[1mindex\u001b[0;0m  |  gp.ICM.B.W  |  constraints  |  priors\n",
      "  \u001b[1m[0 0]\u001b[0;0m  |  -2.18672000  |               |        \n",
      "  \u001b[1m[1 0]\u001b[0;0m  |  0.00000000  |     fixed     |        \n",
      "  \u001b[1mindex\u001b[0;0m  |  gp.ICM.B.W  |  constraints  |  priors\n",
      "  \u001b[1m[0 0]\u001b[0;0m  |  -1.55956663  |               |        \n",
      "  \u001b[1m[1 0]\u001b[0;0m  |  0.00000000  |     fixed     |        \n",
      "  \u001b[1mindex\u001b[0;0m  |   gp.ICM.B.W  |  constraints  |  priors\n",
      "  \u001b[1m[0 0]\u001b[0;0m  |  -0.69836724  |               |        \n",
      "  \u001b[1m[1 0]\u001b[0;0m  |   0.00000000  |     fixed     |        \n",
      "  \u001b[1mindex\u001b[0;0m  |    gp.ICM.B.W  |  constraints  |  priors\n",
      "  \u001b[1m[0 0]\u001b[0;0m  |   -0.01403200  |               |        \n",
      "  \u001b[1m[1 0]\u001b[0;0m  |    0.00000000  |     fixed     |        \n",
      "  \u001b[1mindex\u001b[0;0m  |  gp.ICM.B.W  |  constraints  |  priors\n",
      "  \u001b[1m[0 0]\u001b[0;0m  |  1.39816791  |               |        \n",
      "  \u001b[1m[1 0]\u001b[0;0m  |  0.00000000  |     fixed     |        \n",
      "  \u001b[1mindex\u001b[0;0m  |  gp.ICM.B.W  |  constraints  |  priors\n",
      "  \u001b[1m[0 0]\u001b[0;0m  |  1.59916059  |               |        \n",
      "  \u001b[1m[1 0]\u001b[0;0m  |  0.00000000  |     fixed     |        \n",
      "  \u001b[1mindex\u001b[0;0m  |  gp.ICM.B.W  |  constraints  |  priors\n",
      "  \u001b[1m[0 0]\u001b[0;0m  |  1.66456005  |               |        \n",
      "  \u001b[1m[1 0]\u001b[0;0m  |  0.00000000  |     fixed     |        \n",
      "  \u001b[1mindex\u001b[0;0m  |  gp.ICM.B.W  |  constraints  |  priors\n",
      "  \u001b[1m[0 0]\u001b[0;0m  |  2.31216833  |               |        \n",
      "  \u001b[1m[1 0]\u001b[0;0m  |  0.00000000  |     fixed     |        \n",
      "  \u001b[1mindex\u001b[0;0m  |  gp.ICM.B.W  |  constraints  |  priors\n",
      "  \u001b[1m[0 0]\u001b[0;0m  |  -4.86769695  |               |        \n",
      "  \u001b[1m[1 0]\u001b[0;0m  |  0.00000000  |     fixed     |        \n",
      "  \u001b[1mindex\u001b[0;0m  |  gp.ICM.B.W  |  constraints  |  priors\n",
      "  \u001b[1m[0 0]\u001b[0;0m  |  2.85542826  |               |        \n",
      "  \u001b[1m[1 0]\u001b[0;0m  |  0.00000000  |     fixed     |        \n",
      "  \u001b[1mindex\u001b[0;0m  |  gp.ICM.B.W  |  constraints  |  priors\n",
      "  \u001b[1m[0 0]\u001b[0;0m  |  2.59720740  |               |        \n",
      "  \u001b[1m[1 0]\u001b[0;0m  |  0.00000000  |     fixed     |        \n",
      "  \u001b[1mindex\u001b[0;0m  |  gp.ICM.B.W  |  constraints  |  priors\n",
      "  \u001b[1m[0 0]\u001b[0;0m  |  2.72282276  |               |        \n",
      "  \u001b[1m[1 0]\u001b[0;0m  |  0.00000000  |     fixed     |        \n",
      "  \u001b[1mindex\u001b[0;0m  |  gp.ICM.B.W  |  constraints  |  priors\n",
      "  \u001b[1m[0 0]\u001b[0;0m  |  2.74470166  |               |        \n",
      "  \u001b[1m[1 0]\u001b[0;0m  |  0.00000000  |     fixed     |        \n",
      "  \u001b[1mindex\u001b[0;0m  |  gp.ICM.B.W  |  constraints  |  priors\n",
      "  \u001b[1m[0 0]\u001b[0;0m  |  3.04160303  |               |        \n",
      "  \u001b[1m[1 0]\u001b[0;0m  |  0.00000000  |     fixed     |        \n",
      "  \u001b[1mindex\u001b[0;0m  |  gp.ICM.B.W  |  constraints  |  priors\n",
      "  \u001b[1m[0 0]\u001b[0;0m  |  3.17116655  |               |        \n",
      "  \u001b[1m[1 0]\u001b[0;0m  |  0.00000000  |     fixed     |        \n",
      "  \u001b[1mindex\u001b[0;0m  |  gp.ICM.B.W  |  constraints  |  priors\n",
      "  \u001b[1m[0 0]\u001b[0;0m  |  3.28500112  |               |        \n",
      "  \u001b[1m[1 0]\u001b[0;0m  |  0.00000000  |     fixed     |        \n",
      "  \u001b[1mindex\u001b[0;0m  |  gp.ICM.B.W  |  constraints  |  priors\n",
      "  \u001b[1m[0 0]\u001b[0;0m  |  3.15971169  |               |        \n",
      "  \u001b[1m[1 0]\u001b[0;0m  |  0.00000000  |     fixed     |        \n",
      "  \u001b[1mindex\u001b[0;0m  |  gp.ICM.B.W  |  constraints  |  priors\n",
      "  \u001b[1m[0 0]\u001b[0;0m  |  -5.89800998  |               |        \n",
      "  \u001b[1m[1 0]\u001b[0;0m  |  0.00000000  |     fixed     |        \n",
      "  \u001b[1mindex\u001b[0;0m  |  gp.ICM.B.W  |  constraints  |  priors\n",
      "  \u001b[1m[0 0]\u001b[0;0m  |  5.76403206  |               |        \n",
      "  \u001b[1m[1 0]\u001b[0;0m  |  0.00000000  |     fixed     |        \n",
      "  \u001b[1mindex\u001b[0;0m  |  gp.ICM.B.W  |  constraints  |  priors\n",
      "  \u001b[1m[0 0]\u001b[0;0m  |  2.68571148  |               |        \n",
      "  \u001b[1m[1 0]\u001b[0;0m  |  0.00000000  |     fixed     |        \n",
      "  \u001b[1mindex\u001b[0;0m  |  gp.ICM.B.W  |  constraints  |  priors\n",
      "  \u001b[1m[0 0]\u001b[0;0m  |  3.00686469  |               |        \n",
      "  \u001b[1m[1 0]\u001b[0;0m  |  0.00000000  |     fixed     |        \n",
      "  \u001b[1mindex\u001b[0;0m  |  gp.ICM.B.W  |  constraints  |  priors\n",
      "  \u001b[1m[0 0]\u001b[0;0m  |  2.79849035  |               |        \n",
      "  \u001b[1m[1 0]\u001b[0;0m  |  0.00000000  |     fixed     |        \n",
      "  \u001b[1mindex\u001b[0;0m  |  gp.ICM.B.W  |  constraints  |  priors\n",
      "  \u001b[1m[0 0]\u001b[0;0m  |  2.90458183  |               |        \n",
      "  \u001b[1m[1 0]\u001b[0;0m  |  0.00000000  |     fixed     |        \n",
      "  \u001b[1mindex\u001b[0;0m  |  gp.ICM.B.W  |  constraints  |  priors\n",
      "  \u001b[1m[0 0]\u001b[0;0m  |  2.81680008  |               |        \n",
      "  \u001b[1m[1 0]\u001b[0;0m  |  0.00000000  |     fixed     |        \n",
      "  \u001b[1mindex\u001b[0;0m  |  gp.ICM.B.W  |  constraints  |  priors\n",
      "  \u001b[1m[0 0]\u001b[0;0m  |  2.72035989  |               |        \n",
      "  \u001b[1m[1 0]\u001b[0;0m  |  0.00000000  |     fixed     |        \n",
      "  \u001b[1mindex\u001b[0;0m  |  gp.ICM.B.W  |  constraints  |  priors\n",
      "  \u001b[1m[0 0]\u001b[0;0m  |  3.22417975  |               |        \n",
      "  \u001b[1m[1 0]\u001b[0;0m  |  0.00000000  |     fixed     |        \n",
      "  \u001b[1mindex\u001b[0;0m  |  gp.ICM.B.W  |  constraints  |  priors\n",
      "  \u001b[1m[0 0]\u001b[0;0m  |  2.51171147  |               |        \n",
      "  \u001b[1m[1 0]\u001b[0;0m  |  0.00000000  |     fixed     |        \n",
      "  \u001b[1mindex\u001b[0;0m  |  gp.ICM.B.W  |  constraints  |  priors\n",
      "  \u001b[1m[0 0]\u001b[0;0m  |  2.65506038  |               |        \n",
      "  \u001b[1m[1 0]\u001b[0;0m  |  0.00000000  |     fixed     |        \n",
      "  \u001b[1mindex\u001b[0;0m  |  gp.ICM.B.W  |  constraints  |  priors\n",
      "  \u001b[1m[0 0]\u001b[0;0m  |  2.62761018  |               |        \n",
      "  \u001b[1m[1 0]\u001b[0;0m  |  0.00000000  |     fixed     |        \n",
      "  \u001b[1mindex\u001b[0;0m  |  gp.ICM.B.W  |  constraints  |  priors\n",
      "  \u001b[1m[0 0]\u001b[0;0m  |  2.50598043  |               |        \n",
      "  \u001b[1m[1 0]\u001b[0;0m  |  0.00000000  |     fixed     |        \n",
      "  \u001b[1mindex\u001b[0;0m  |  gp.ICM.B.W  |  constraints  |  priors\n",
      "  \u001b[1m[0 0]\u001b[0;0m  |  2.44624618  |               |        \n",
      "  \u001b[1m[1 0]\u001b[0;0m  |  0.00000000  |     fixed     |        \n",
      "  \u001b[1mindex\u001b[0;0m  |  gp.ICM.B.W  |  constraints  |  priors\n",
      "  \u001b[1m[0 0]\u001b[0;0m  |  2.68525830  |               |        \n",
      "  \u001b[1m[1 0]\u001b[0;0m  |  0.00000000  |     fixed     |        \n",
      "  \u001b[1mindex\u001b[0;0m  |  gp.ICM.B.W  |  constraints  |  priors\n",
      "  \u001b[1m[0 0]\u001b[0;0m  |  2.32096934  |               |        \n",
      "  \u001b[1m[1 0]\u001b[0;0m  |  0.00000000  |     fixed     |        \n",
      "  \u001b[1mindex\u001b[0;0m  |  gp.ICM.B.W  |  constraints  |  priors\n",
      "  \u001b[1m[0 0]\u001b[0;0m  |  2.98169024  |               |        \n",
      "  \u001b[1m[1 0]\u001b[0;0m  |  0.00000000  |     fixed     |        \n",
      "  \u001b[1mindex\u001b[0;0m  |  gp.ICM.B.W  |  constraints  |  priors\n",
      "  \u001b[1m[0 0]\u001b[0;0m  |  2.38673266  |               |        \n",
      "  \u001b[1m[1 0]\u001b[0;0m  |  0.00000000  |     fixed     |        \n",
      "  \u001b[1mindex\u001b[0;0m  |  gp.ICM.B.W  |  constraints  |  priors\n",
      "  \u001b[1m[0 0]\u001b[0;0m  |  4.97769946  |               |        \n",
      "  \u001b[1m[1 0]\u001b[0;0m  |  0.00000000  |     fixed     |        \n",
      "  \u001b[1mindex\u001b[0;0m  |  gp.ICM.B.W  |  constraints  |  priors\n",
      "  \u001b[1m[0 0]\u001b[0;0m  |  3.18428065  |               |        \n",
      "  \u001b[1m[1 0]\u001b[0;0m  |  0.00000000  |     fixed     |        \n",
      "  \u001b[1mindex\u001b[0;0m  |  gp.ICM.B.W  |  constraints  |  priors\n",
      "  \u001b[1m[0 0]\u001b[0;0m  |  2.94319506  |               |        \n",
      "  \u001b[1m[1 0]\u001b[0;0m  |  0.00000000  |     fixed     |        \n",
      "  \u001b[1mindex\u001b[0;0m  |  gp.ICM.B.W  |  constraints  |  priors\n",
      "  \u001b[1m[0 0]\u001b[0;0m  |  3.26313849  |               |        \n",
      "  \u001b[1m[1 0]\u001b[0;0m  |  0.00000000  |     fixed     |        \n",
      "  \u001b[1mindex\u001b[0;0m  |  gp.ICM.B.W  |  constraints  |  priors\n",
      "  \u001b[1m[0 0]\u001b[0;0m  |  2.85299952  |               |        \n",
      "  \u001b[1m[1 0]\u001b[0;0m  |  0.00000000  |     fixed     |        \n",
      "  \u001b[1mindex\u001b[0;0m  |  gp.ICM.B.W  |  constraints  |  priors\n",
      "  \u001b[1m[0 0]\u001b[0;0m  |  2.60814341  |               |        \n",
      "  \u001b[1m[1 0]\u001b[0;0m  |  0.00000000  |     fixed     |        \n"
     ]
    },
    {
     "name": "stdout",
     "output_type": "stream",
     "text": [
      "  \u001b[1mindex\u001b[0;0m  |  gp.ICM.B.W  |  constraints  |  priors\n",
      "  \u001b[1m[0 0]\u001b[0;0m  |  2.72631009  |               |        \n",
      "  \u001b[1m[1 0]\u001b[0;0m  |  0.00000000  |     fixed     |        \n",
      "  \u001b[1mindex\u001b[0;0m  |  gp.ICM.B.W  |  constraints  |  priors\n",
      "  \u001b[1m[0 0]\u001b[0;0m  |  5.57297633  |               |        \n",
      "  \u001b[1m[1 0]\u001b[0;0m  |  0.00000000  |     fixed     |        \n",
      "  \u001b[1mindex\u001b[0;0m  |  gp.ICM.B.W  |  constraints  |  priors\n",
      "  \u001b[1m[0 0]\u001b[0;0m  |  2.93247684  |               |        \n",
      "  \u001b[1m[1 0]\u001b[0;0m  |  0.00000000  |     fixed     |        \n",
      "  \u001b[1mindex\u001b[0;0m  |  gp.ICM.B.W  |  constraints  |  priors\n",
      "  \u001b[1m[0 0]\u001b[0;0m  |  -5.87157730  |               |        \n",
      "  \u001b[1m[1 0]\u001b[0;0m  |  0.00000000  |     fixed     |        \n",
      "  \u001b[1mindex\u001b[0;0m  |  gp.ICM.B.W  |  constraints  |  priors\n",
      "  \u001b[1m[0 0]\u001b[0;0m  |  1.23831621  |               |        \n",
      "  \u001b[1m[1 0]\u001b[0;0m  |  0.00000000  |     fixed     |        \n",
      "  \u001b[1mindex\u001b[0;0m  |  gp.ICM.B.W  |  constraints  |  priors\n",
      "  \u001b[1m[0 0]\u001b[0;0m  |  3.37422309  |               |        \n",
      "  \u001b[1m[1 0]\u001b[0;0m  |  0.00000000  |     fixed     |        \n",
      "  \u001b[1mindex\u001b[0;0m  |  gp.ICM.B.W  |  constraints  |  priors\n",
      "  \u001b[1m[0 0]\u001b[0;0m  |  3.32276576  |               |        \n",
      "  \u001b[1m[1 0]\u001b[0;0m  |  0.00000000  |     fixed     |        \n",
      "  \u001b[1mindex\u001b[0;0m  |  gp.ICM.B.W  |  constraints  |  priors\n",
      "  \u001b[1m[0 0]\u001b[0;0m  |  3.16674989  |               |        \n",
      "  \u001b[1m[1 0]\u001b[0;0m  |  0.00000000  |     fixed     |        \n",
      "  \u001b[1mindex\u001b[0;0m  |  gp.ICM.B.W  |  constraints  |  priors\n",
      "  \u001b[1m[0 0]\u001b[0;0m  |  3.15066170  |               |        \n",
      "  \u001b[1m[1 0]\u001b[0;0m  |  0.00000000  |     fixed     |        \n",
      "  \u001b[1mindex\u001b[0;0m  |  gp.ICM.B.W  |  constraints  |  priors\n",
      "  \u001b[1m[0 0]\u001b[0;0m  |  3.02341494  |               |        \n",
      "  \u001b[1m[1 0]\u001b[0;0m  |  0.00000000  |     fixed     |        \n",
      "  \u001b[1mindex\u001b[0;0m  |  gp.ICM.B.W  |  constraints  |  priors\n",
      "  \u001b[1m[0 0]\u001b[0;0m  |  0.48360922  |               |        \n",
      "  \u001b[1m[1 0]\u001b[0;0m  |  0.00000000  |     fixed     |        \n",
      "  \u001b[1mindex\u001b[0;0m  |   gp.ICM.B.W  |  constraints  |  priors\n",
      "  \u001b[1m[0 0]\u001b[0;0m  |  -0.13104438  |               |        \n",
      "  \u001b[1m[1 0]\u001b[0;0m  |   0.00000000  |     fixed     |        \n",
      "  \u001b[1mindex\u001b[0;0m  |  gp.ICM.B.W  |  constraints  |  priors\n",
      "  \u001b[1m[0 0]\u001b[0;0m  |  2.49470779  |               |        \n",
      "  \u001b[1m[1 0]\u001b[0;0m  |  0.00000000  |     fixed     |        \n",
      "  \u001b[1mindex\u001b[0;0m  |  gp.ICM.B.W  |  constraints  |  priors\n",
      "  \u001b[1m[0 0]\u001b[0;0m  |  2.97312355  |               |        \n",
      "  \u001b[1m[1 0]\u001b[0;0m  |  0.00000000  |     fixed     |        \n",
      "  \u001b[1mindex\u001b[0;0m  |  gp.ICM.B.W  |  constraints  |  priors\n",
      "  \u001b[1m[0 0]\u001b[0;0m  |  2.91281406  |               |        \n",
      "  \u001b[1m[1 0]\u001b[0;0m  |  0.00000000  |     fixed     |        \n",
      "  \u001b[1mindex\u001b[0;0m  |  gp.ICM.B.W  |  constraints  |  priors\n",
      "  \u001b[1m[0 0]\u001b[0;0m  |  2.92394086  |               |        \n",
      "  \u001b[1m[1 0]\u001b[0;0m  |  0.00000000  |     fixed     |        \n",
      "  \u001b[1mindex\u001b[0;0m  |  gp.ICM.B.W  |  constraints  |  priors\n",
      "  \u001b[1m[0 0]\u001b[0;0m  |  2.63699108  |               |        \n",
      "  \u001b[1m[1 0]\u001b[0;0m  |  0.00000000  |     fixed     |        \n",
      "  \u001b[1mindex\u001b[0;0m  |  gp.ICM.B.W  |  constraints  |  priors\n",
      "  \u001b[1m[0 0]\u001b[0;0m  |  3.61178276  |               |        \n",
      "  \u001b[1m[1 0]\u001b[0;0m  |  0.00000000  |     fixed     |        \n",
      "  \u001b[1mindex\u001b[0;0m  |  gp.ICM.B.W  |  constraints  |  priors\n",
      "  \u001b[1m[0 0]\u001b[0;0m  |  2.84299585  |               |        \n",
      "  \u001b[1m[1 0]\u001b[0;0m  |  0.00000000  |     fixed     |        \n",
      "  \u001b[1mindex\u001b[0;0m  |  gp.ICM.B.W  |  constraints  |  priors\n",
      "  \u001b[1m[0 0]\u001b[0;0m  |  2.77658838  |               |        \n",
      "  \u001b[1m[1 0]\u001b[0;0m  |  0.00000000  |     fixed     |        \n",
      "  \u001b[1mindex\u001b[0;0m  |  gp.ICM.B.W  |  constraints  |  priors\n",
      "  \u001b[1m[0 0]\u001b[0;0m  |  2.64776213  |               |        \n",
      "  \u001b[1m[1 0]\u001b[0;0m  |  0.00000000  |     fixed     |        \n",
      "  \u001b[1mindex\u001b[0;0m  |  gp.ICM.B.W  |  constraints  |  priors\n",
      "  \u001b[1m[0 0]\u001b[0;0m  |  2.60605359  |               |        \n",
      "  \u001b[1m[1 0]\u001b[0;0m  |  0.00000000  |     fixed     |        \n",
      "  \u001b[1mindex\u001b[0;0m  |  gp.ICM.B.W  |  constraints  |  priors\n",
      "  \u001b[1m[0 0]\u001b[0;0m  |  2.55619887  |               |        \n",
      "  \u001b[1m[1 0]\u001b[0;0m  |  0.00000000  |     fixed     |        \n",
      "  \u001b[1mindex\u001b[0;0m  |  gp.ICM.B.W  |  constraints  |  priors\n",
      "  \u001b[1m[0 0]\u001b[0;0m  |  2.38245309  |               |        \n",
      "  \u001b[1m[1 0]\u001b[0;0m  |  0.00000000  |     fixed     |        \n",
      "  \u001b[1mindex\u001b[0;0m  |  gp.ICM.B.W  |  constraints  |  priors\n",
      "  \u001b[1m[0 0]\u001b[0;0m  |  2.50839781  |               |        \n",
      "  \u001b[1m[1 0]\u001b[0;0m  |  0.00000000  |     fixed     |        \n",
      "  \u001b[1mindex\u001b[0;0m  |  gp.ICM.B.W  |  constraints  |  priors\n",
      "  \u001b[1m[0 0]\u001b[0;0m  |  2.44092437  |               |        \n",
      "  \u001b[1m[1 0]\u001b[0;0m  |  0.00000000  |     fixed     |        \n",
      "  \u001b[1mindex\u001b[0;0m  |  gp.ICM.B.W  |  constraints  |  priors\n",
      "  \u001b[1m[0 0]\u001b[0;0m  |  2.65260587  |               |        \n",
      "  \u001b[1m[1 0]\u001b[0;0m  |  0.00000000  |     fixed     |        \n",
      "  \u001b[1mindex\u001b[0;0m  |   gp.ICM.B.W  |  constraints  |  priors\n",
      "  \u001b[1m[0 0]\u001b[0;0m  |  -0.11800098  |               |        \n",
      "  \u001b[1m[1 0]\u001b[0;0m  |   0.00000000  |     fixed     |        \n",
      "  \u001b[1mindex\u001b[0;0m  |  gp.ICM.B.W  |  constraints  |  priors\n",
      "  \u001b[1m[0 0]\u001b[0;0m  |  5.65557552  |               |        \n",
      "  \u001b[1m[1 0]\u001b[0;0m  |  0.00000000  |     fixed     |        \n",
      "  \u001b[1mindex\u001b[0;0m  |  gp.ICM.B.W  |  constraints  |  priors\n",
      "  \u001b[1m[0 0]\u001b[0;0m  |  2.64914705  |               |        \n",
      "  \u001b[1m[1 0]\u001b[0;0m  |  0.00000000  |     fixed     |        \n",
      "  \u001b[1mindex\u001b[0;0m  |  gp.ICM.B.W  |  constraints  |  priors\n",
      "  \u001b[1m[0 0]\u001b[0;0m  |  2.71927649  |               |        \n",
      "  \u001b[1m[1 0]\u001b[0;0m  |  0.00000000  |     fixed     |        \n",
      "  \u001b[1mindex\u001b[0;0m  |  gp.ICM.B.W  |  constraints  |  priors\n",
      "  \u001b[1m[0 0]\u001b[0;0m  |  3.18384680  |               |        \n",
      "  \u001b[1m[1 0]\u001b[0;0m  |  0.00000000  |     fixed     |        \n",
      "  \u001b[1mindex\u001b[0;0m  |  gp.ICM.B.W  |  constraints  |  priors\n",
      "  \u001b[1m[0 0]\u001b[0;0m  |  2.51730363  |               |        \n",
      "  \u001b[1m[1 0]\u001b[0;0m  |  0.00000000  |     fixed     |        \n",
      "  \u001b[1mindex\u001b[0;0m  |  gp.ICM.B.W  |  constraints  |  priors\n",
      "  \u001b[1m[0 0]\u001b[0;0m  |  2.78277375  |               |        \n",
      "  \u001b[1m[1 0]\u001b[0;0m  |  0.00000000  |     fixed     |        \n",
      "  \u001b[1mindex\u001b[0;0m  |  gp.ICM.B.W  |  constraints  |  priors\n",
      "  \u001b[1m[0 0]\u001b[0;0m  |  2.56379516  |               |        \n",
      "  \u001b[1m[1 0]\u001b[0;0m  |  0.00000000  |     fixed     |        \n",
      "  \u001b[1mindex\u001b[0;0m  |  gp.ICM.B.W  |  constraints  |  priors\n",
      "  \u001b[1m[0 0]\u001b[0;0m  |  0.11679724  |               |        \n",
      "  \u001b[1m[1 0]\u001b[0;0m  |  0.00000000  |     fixed     |        \n",
      "  \u001b[1mindex\u001b[0;0m  |  gp.ICM.B.W  |  constraints  |  priors\n",
      "  \u001b[1m[0 0]\u001b[0;0m  |  2.59178322  |               |        \n",
      "  \u001b[1m[1 0]\u001b[0;0m  |  0.00000000  |     fixed     |        \n",
      "  \u001b[1mindex\u001b[0;0m  |  gp.ICM.B.W  |  constraints  |  priors\n",
      "  \u001b[1m[0 0]\u001b[0;0m  |  2.63934212  |               |        \n",
      "  \u001b[1m[1 0]\u001b[0;0m  |  0.00000000  |     fixed     |        \n",
      "  \u001b[1mindex\u001b[0;0m  |  gp.ICM.B.W  |  constraints  |  priors\n",
      "  \u001b[1m[0 0]\u001b[0;0m  |  2.58292215  |               |        \n",
      "  \u001b[1m[1 0]\u001b[0;0m  |  0.00000000  |     fixed     |        \n",
      "  \u001b[1mindex\u001b[0;0m  |  gp.ICM.B.W  |  constraints  |  priors\n",
      "  \u001b[1m[0 0]\u001b[0;0m  |  2.57809457  |               |        \n",
      "  \u001b[1m[1 0]\u001b[0;0m  |  0.00000000  |     fixed     |        \n",
      "  \u001b[1mindex\u001b[0;0m  |  gp.ICM.B.W  |  constraints  |  priors\n",
      "  \u001b[1m[0 0]\u001b[0;0m  |  2.52332287  |               |        \n",
      "  \u001b[1m[1 0]\u001b[0;0m  |  0.00000000  |     fixed     |        \n",
      "  \u001b[1mindex\u001b[0;0m  |  gp.ICM.B.W  |  constraints  |  priors\n",
      "  \u001b[1m[0 0]\u001b[0;0m  |  2.46465878  |               |        \n",
      "  \u001b[1m[1 0]\u001b[0;0m  |  0.00000000  |     fixed     |        \n",
      "  \u001b[1mindex\u001b[0;0m  |  gp.ICM.B.W  |  constraints  |  priors\n",
      "  \u001b[1m[0 0]\u001b[0;0m  |  2.42661818  |               |        \n",
      "  \u001b[1m[1 0]\u001b[0;0m  |  0.00000000  |     fixed     |        \n",
      "  \u001b[1mindex\u001b[0;0m  |  gp.ICM.B.W  |  constraints  |  priors\n",
      "  \u001b[1m[0 0]\u001b[0;0m  |  2.40082832  |               |        \n",
      "  \u001b[1m[1 0]\u001b[0;0m  |  0.00000000  |     fixed     |        \n",
      "  \u001b[1mindex\u001b[0;0m  |  gp.ICM.B.W  |  constraints  |  priors\n",
      "  \u001b[1m[0 0]\u001b[0;0m  |  2.35410214  |               |        \n",
      "  \u001b[1m[1 0]\u001b[0;0m  |  0.00000000  |     fixed     |        \n",
      "  \u001b[1mindex\u001b[0;0m  |  gp.ICM.B.W  |  constraints  |  priors\n",
      "  \u001b[1m[0 0]\u001b[0;0m  |  2.57560660  |               |        \n",
      "  \u001b[1m[1 0]\u001b[0;0m  |  0.00000000  |     fixed     |        \n"
     ]
    },
    {
     "name": "stdout",
     "output_type": "stream",
     "text": [
      "  \u001b[1mindex\u001b[0;0m  |  gp.ICM.B.W  |  constraints  |  priors\n",
      "  \u001b[1m[0 0]\u001b[0;0m  |  2.58555185  |               |        \n",
      "  \u001b[1m[1 0]\u001b[0;0m  |  0.00000000  |     fixed     |        \n",
      "  \u001b[1mindex\u001b[0;0m  |  gp.ICM.B.W  |  constraints  |  priors\n",
      "  \u001b[1m[0 0]\u001b[0;0m  |  2.58591481  |               |        \n",
      "  \u001b[1m[1 0]\u001b[0;0m  |  0.00000000  |     fixed     |        \n",
      "  \u001b[1mindex\u001b[0;0m  |  gp.ICM.B.W  |  constraints  |  priors\n",
      "  \u001b[1m[0 0]\u001b[0;0m  |  2.44665592  |               |        \n",
      "  \u001b[1m[1 0]\u001b[0;0m  |  0.00000000  |     fixed     |        \n",
      "  \u001b[1mindex\u001b[0;0m  |  gp.ICM.B.W  |  constraints  |  priors\n",
      "  \u001b[1m[0 0]\u001b[0;0m  |  2.63335628  |               |        \n",
      "  \u001b[1m[1 0]\u001b[0;0m  |  0.00000000  |     fixed     |        \n",
      "  \u001b[1mindex\u001b[0;0m  |  gp.ICM.B.W  |  constraints  |  priors\n",
      "  \u001b[1m[0 0]\u001b[0;0m  |  2.65556806  |               |        \n",
      "  \u001b[1m[1 0]\u001b[0;0m  |  0.00000000  |     fixed     |        \n",
      "  \u001b[1mindex\u001b[0;0m  |  gp.ICM.B.W  |  constraints  |  priors\n",
      "  \u001b[1m[0 0]\u001b[0;0m  |  2.61790230  |               |        \n",
      "  \u001b[1m[1 0]\u001b[0;0m  |  0.00000000  |     fixed     |        \n"
     ]
    }
   ],
   "source": [
    "covcorB2D = B_cov_cor(HF2Ds, LF2Ds)"
   ]
  },
  {
   "cell_type": "code",
   "execution_count": 55,
   "metadata": {},
   "outputs": [
    {
     "data": {
      "text/plain": [
       "array([[43.28116121, 33.38326472],\n",
       "       [33.38326472, 28.86184538]])"
      ]
     },
     "execution_count": 55,
     "metadata": {},
     "output_type": "execute_result"
    }
   ],
   "source": [
    "# covariance matrix between HF2D and LF2D\n",
    "covcorB2D['cov'][-1,:].reshape((2,2))"
   ]
  },
  {
   "cell_type": "code",
   "execution_count": 50,
   "metadata": {},
   "outputs": [
    {
     "data": {
      "text/plain": [
       "array([9.44533371e-01, 3.45931312e-49])"
      ]
     },
     "execution_count": 50,
     "metadata": {},
     "output_type": "execute_result"
    }
   ],
   "source": [
    "# correlation between HD2D and LF2D\n",
    "covcorB2D['cor'][-1,:]"
   ]
  },
  {
   "cell_type": "code",
   "execution_count": 57,
   "metadata": {
    "scrolled": true
   },
   "outputs": [
    {
     "data": {
      "text/plain": [
       "array([[ 2.08055087,  0.        ,  0.        ,  3.3374351 ],\n",
       "       [ 2.33723106,  0.        ,  0.        ,  3.61928099],\n",
       "       [ 5.55634347,  0.        ,  0.        , 29.95666285],\n",
       "       [10.22782694,  0.        ,  0.        , 38.1299215 ],\n",
       "       [14.24616828,  0.        ,  0.        , 72.76990113],\n",
       "       [ 4.8020957 ,  0.        ,  0.        , 58.0327685 ],\n",
       "       [15.61685237,  0.        ,  0.        , 49.84664521],\n",
       "       [18.19202649,  0.        ,  0.        , 46.29052035],\n",
       "       [22.89146795,  0.        ,  0.        , 47.99563208],\n",
       "       [28.10406144,  0.        ,  0.        , 41.5164038 ],\n",
       "       [27.7187519 ,  0.        ,  0.        , 37.03381642],\n",
       "       [28.84639478,  0.        ,  0.        , 33.42732193],\n",
       "       [30.75088426,  0.        ,  0.        , 31.19467823],\n",
       "       [32.15990605,  0.        ,  0.        , 29.20457957],\n",
       "       [33.79507165,  0.        ,  0.        , 26.54624782],\n",
       "       [32.93108723,  0.        ,  0.        , 30.41277947],\n",
       "       [32.68063066,  0.        ,  0.        , 29.84375039],\n",
       "       [32.86862812,  0.        ,  0.        , 31.14851558],\n",
       "       [34.62020728,  0.        ,  0.        , 30.51759545],\n",
       "       [35.5054036 ,  0.        ,  0.        , 31.42923368],\n",
       "       [36.00759816,  0.        ,  0.        , 32.06421891],\n",
       "       [35.73410173,  0.        ,  0.        , 30.91895882],\n",
       "       [34.78639456,  0.        ,  0.        , 36.15987322],\n",
       "       [33.22224568,  0.        ,  0.        , 45.77189388],\n",
       "       [33.48071994,  0.        ,  0.        , 47.87558786],\n",
       "       [34.19960394,  0.        ,  0.        , 38.31807298],\n",
       "       [35.94347583,  0.        ,  0.        , 49.40724511],\n",
       "       [34.07964147,  0.        ,  0.        , 36.54426715],\n",
       "       [30.46391698,  0.        ,  0.        , 38.19459855],\n",
       "       [32.69606697,  0.        ,  0.        , 35.12788615],\n",
       "       [38.82076792,  0.        ,  0.        , 39.93965088],\n",
       "       [32.01911076,  0.        ,  0.        , 34.63407191],\n",
       "       [32.25050759,  0.        ,  0.        , 32.2322339 ],\n",
       "       [32.14827026,  0.        ,  0.        , 31.56568229],\n",
       "       [33.1380861 ,  0.        ,  0.        , 31.74294154],\n",
       "       [31.52354025,  0.        ,  0.        , 33.53199068],\n",
       "       [32.74450814,  0.        ,  0.        , 32.12659513],\n",
       "       [31.55235857,  0.        ,  0.        , 35.04601715],\n",
       "       [33.95591361,  0.        ,  0.        , 30.00197018],\n",
       "       [31.26144389,  0.        ,  0.        , 32.86125896],\n",
       "       [33.25274114,  0.        ,  0.        , 31.52982891],\n",
       "       [36.09868763,  0.        ,  0.        , 27.81370744],\n",
       "       [34.91364721,  0.        ,  0.        , 28.05904397],\n",
       "       [35.7563922 ,  0.        ,  0.        , 26.29522185],\n",
       "       [34.15732429,  0.        ,  0.        , 29.10114705],\n",
       "       [33.1919848 ,  0.        ,  0.        , 31.40110008],\n",
       "       [32.83213456,  0.        ,  0.        , 31.88417285],\n",
       "       [32.29853861,  0.        ,  0.        , 31.37624865],\n",
       "       [33.85576258,  0.        ,  0.        , 29.52064005],\n",
       "       [34.49161717,  0.        ,  0.        , 27.36810313],\n",
       "       [35.41249018,  0.        ,  0.        , 27.27885685],\n",
       "       [37.09412037,  0.        ,  0.        , 25.50098308],\n",
       "       [36.16101649,  0.        ,  0.        , 28.56376664],\n",
       "       [35.73953603,  0.        ,  0.        , 31.86905943],\n",
       "       [35.47822005,  0.        ,  0.        , 32.93235081],\n",
       "       [34.63040517,  0.        ,  0.        , 33.87068766],\n",
       "       [34.00630603,  0.        ,  0.        , 36.00982923],\n",
       "       [33.62244928,  0.        ,  0.        , 38.14097023],\n",
       "       [33.46805312,  0.        ,  0.        , 37.42741244],\n",
       "       [34.59975105,  0.        ,  0.        , 36.01857166],\n",
       "       [34.3053346 ,  0.        ,  0.        , 35.47767139],\n",
       "       [33.91619909,  0.        ,  0.        , 34.82004881],\n",
       "       [33.65735241,  0.        ,  0.        , 36.17862151],\n",
       "       [33.20507716,  0.        ,  0.        , 38.60142473],\n",
       "       [33.59615773,  0.        ,  0.        , 40.23623383],\n",
       "       [33.16717129,  0.        ,  0.        , 43.5469597 ],\n",
       "       [32.73022031,  0.        ,  0.        , 42.92865864],\n",
       "       [32.27429692,  0.        ,  0.        , 42.37491648],\n",
       "       [31.95851331,  0.        ,  0.        , 41.97307319],\n",
       "       [31.87081583,  0.        ,  0.        , 41.07851765],\n",
       "       [31.65401574,  0.        ,  0.        , 40.32885217],\n",
       "       [31.4927433 ,  0.        ,  0.        , 40.07635293],\n",
       "       [32.47625561,  0.        ,  0.        , 38.5410289 ],\n",
       "       [31.53269231,  0.        ,  0.        , 40.18892075],\n",
       "       [31.9823106 ,  0.        ,  0.        , 39.57008406],\n",
       "       [32.44544846,  0.        ,  0.        , 39.22262177],\n",
       "       [32.87701634,  0.        ,  0.        , 37.91864742],\n",
       "       [32.5229035 ,  0.        ,  0.        , 38.86505039],\n",
       "       [32.84053393,  0.        ,  0.        , 38.72509703],\n",
       "       [32.16085214,  0.        ,  0.        , 40.78228043],\n",
       "       [32.20376777,  0.        ,  0.        , 41.28010781],\n",
       "       [31.44636679,  0.        ,  0.        , 41.42173433],\n",
       "       [32.21868565,  0.        ,  0.        , 40.09422605],\n",
       "       [32.31760474,  0.        ,  0.        , 39.2702395 ],\n",
       "       [32.25124049,  0.        ,  0.        , 39.22615654],\n",
       "       [32.09204552,  0.        ,  0.        , 39.27184512],\n",
       "       [31.85576845,  0.        ,  0.        , 39.27748786],\n",
       "       [31.47882646,  0.        ,  0.        , 39.14942329],\n",
       "       [31.37515448,  0.        ,  0.        , 40.07501458],\n",
       "       [31.33841961,  0.        ,  0.        , 40.17894658],\n",
       "       [31.59982931,  0.        ,  0.        , 39.50699525],\n",
       "       [32.03835743,  0.        ,  0.        , 38.95335907],\n",
       "       [32.2377376 ,  0.        ,  0.        , 38.36968481],\n",
       "       [32.34350928,  0.        ,  0.        , 37.89208389],\n",
       "       [31.50706716,  0.        ,  0.        , 38.25264644],\n",
       "       [32.62094967,  0.        ,  0.        , 38.00667168],\n",
       "       [32.42455236,  0.        ,  0.        , 39.11294594],\n",
       "       [32.2157996 ,  0.        ,  0.        , 39.20355009]])"
      ]
     },
     "execution_count": 57,
     "metadata": {},
     "output_type": "execute_result"
    }
   ],
   "source": [
    "covcorB2D['B']"
   ]
  },
  {
   "cell_type": "code",
   "execution_count": 56,
   "metadata": {},
   "outputs": [
    {
     "data": {
      "image/png": "[encoded data removed]",
      "text/plain": [
       "<Figure size 720x720 with 4 Axes>"
      ]
     },
     "metadata": {
      "needs_background": "light"
     },
     "output_type": "display_data"
    }
   ],
   "source": [
    "# using sobol points, there should be \n",
    "# cancellation of transfer of information (cross covariance = 0)\n",
    "plot_cov_B(covcorB2D)"
   ]
  },
  {
   "cell_type": "code",
   "execution_count": 36,
   "metadata": {},
   "outputs": [
    {
     "data": {
      "text/plain": [
       "array([[35.75872028, 31.94388766],\n",
       "       [31.94388766, 33.41929063]])"
      ]
     },
     "execution_count": 36,
     "metadata": {},
     "output_type": "execute_result"
    }
   ],
   "source": [
    "# 4D\n",
    "np.cov(VHF4Ds['y'].T, LF4Ds['y'].T)"
   ]
  },
  {
   "cell_type": "code",
   "execution_count": 37,
   "metadata": {},
   "outputs": [
    {
     "data": {
      "text/plain": [
       "37.71214608775931"
      ]
     },
     "execution_count": 37,
     "metadata": {},
     "output_type": "execute_result"
    }
   ],
   "source": [
    "np.var(HF4Ds['y'].T)"
   ]
  },
  {
   "cell_type": "code",
   "execution_count": 38,
   "metadata": {},
   "outputs": [
    {
     "data": {
      "text/plain": [
       "array([[37.83827367, 32.53958465],\n",
       "       [32.53958465, 33.41929063]])"
      ]
     },
     "execution_count": 38,
     "metadata": {},
     "output_type": "execute_result"
    }
   ],
   "source": [
    "np.cov(HF4Ds['y'].T, LF4Ds['y'].T)"
   ]
  },
  {
   "cell_type": "code",
   "execution_count": 39,
   "metadata": {},
   "outputs": [
    {
     "data": {
      "text/plain": [
       "(0.9978694024419903, 0.0)"
      ]
     },
     "execution_count": 39,
     "metadata": {},
     "output_type": "execute_result"
    }
   ],
   "source": [
    "pearsonr(VHF4Ds['y'].flatten(), HF4Ds['y'].flatten())"
   ]
  },
  {
   "cell_type": "code",
   "execution_count": 40,
   "metadata": {},
   "outputs": [
    {
     "data": {
      "text/plain": [
       "(0.9240557468727025, 1.7405817480178323e-126)"
      ]
     },
     "execution_count": 40,
     "metadata": {},
     "output_type": "execute_result"
    }
   ],
   "source": [
    "pearsonr(VHF4Ds['y'].flatten(), LF4Ds['y'].flatten())"
   ]
  },
  {
   "cell_type": "markdown",
   "metadata": {},
   "source": [
    "## TL experiments and B\n",
    "\n",
    "Do cross covariances approach measured cross-covariances?"
   ]
  },
  {
   "cell_type": "code",
   "execution_count": 41,
   "metadata": {},
   "outputs": [],
   "source": [
    "HF2Dtl = load_data('../processed_data/transfer_learning/alanine4D_VHF_exp_7.json')"
   ]
  },
  {
   "cell_type": "code",
   "execution_count": 42,
   "metadata": {},
   "outputs": [],
   "source": [
    "def tl_B(exp):\n",
    "    # calculate B by iteration for TL experiments\n",
    "    initpts = sum(exp['initpts'])\n",
    "    B_list = []\n",
    "    for hyperparams in exp['gp_hyperparam']:\n",
    "        # lengthscales W kappa\n",
    "        W = hyperparams[-4:-2]\n",
    "        kappa = hyperparams[-2:]\n",
    "        B = W.dot(W.T) + np.diag(kappa)\n",
    "        B = B.flatten()\n",
    "        B = B/max(B[0], B[3])\n",
    "        B_list.append(B)\n",
    "    return np.array(B_list)"
   ]
  },
  {
   "cell_type": "code",
   "execution_count": 43,
   "metadata": {},
   "outputs": [
    {
     "ename": "SyntaxError",
     "evalue": "invalid syntax (<ipython-input-43-35a9b3bcb0e9>, line 1)",
     "output_type": "error",
     "traceback": [
      "\u001b[0;36m  File \u001b[0;32m\"<ipython-input-43-35a9b3bcb0e9>\"\u001b[0;36m, line \u001b[0;32m1\u001b[0m\n\u001b[0;31m    Tsekkaa skaalat!\u001b[0m\n\u001b[0m                  ^\u001b[0m\n\u001b[0;31mSyntaxError\u001b[0m\u001b[0;31m:\u001b[0m invalid syntax\n"
     ]
    }
   ],
   "source": [
    "Tsekkaa skaalat!"
   ]
  },
  {
   "cell_type": "code",
   "execution_count": null,
   "metadata": {},
   "outputs": [],
   "source": [
    "cv = np.atleast_2d(np.cov(VHF4Ds['y'].T, HF4Ds['y'].T).flatten())\n",
    "cv"
   ]
  },
  {
   "cell_type": "code",
   "execution_count": null,
   "metadata": {},
   "outputs": [],
   "source": [
    "def loewner(A, B):\n",
    "    # A>=B if \n",
    "    ret_list = []\n",
    "    for b in B:\n",
    "        D = (A-b).reshape((2,2))\n",
    "        det = np.linalg.det(D)\n",
    "        ret = 1\n",
    "        if det < 0 or D[0,0] < 0:\n",
    "            ret = 0\n",
    "        ret_list.append(ret)\n",
    "    return ret_list\n",
    "        \n",
    "        "
   ]
  },
  {
   "cell_type": "code",
   "execution_count": null,
   "metadata": {},
   "outputs": [],
   "source": [
    "np.mean(loewner(cv,tl_B(HF2Dtl)))"
   ]
  },
  {
   "cell_type": "code",
   "execution_count": null,
   "metadata": {},
   "outputs": [],
   "source": [
    "plot_cov_B({'cov':cv,\n",
    "            'B':tl_B(HF2Dtl)})"
   ]
  },
  {
   "cell_type": "markdown",
   "metadata": {},
   "source": [
    "## Comparing covariance matrices"
   ]
  },
  {
   "cell_type": "markdown",
   "metadata": {},
   "source": [
    "using loewner order to determine how much secondary data is needed\n",
    "\n",
    "Hypothesis:\n",
    "Loewner order of estimated covariance and coregionalization matrix B can be used to estimate, whether there is enough secondary data to utilize transfer learning with confidence."
   ]
  },
  {
   "cell_type": "markdown",
   "metadata": {},
   "source": [
    "# Are BOSS experiments actually even reproducible?"
   ]
  },
  {
   "cell_type": "code",
   "execution_count": null,
   "metadata": {},
   "outputs": [],
   "source": [
    "with open('../processed_data/other/baseline.json','r') as f:\n",
    "    exp1 = json.load(f)"
   ]
  },
  {
   "cell_type": "code",
   "execution_count": null,
   "metadata": {},
   "outputs": [],
   "source": [
    "with open('../processed_data/other/baseline_reproduced.json','r') as f:\n",
    "    exp2 = json.load(f)"
   ]
  },
  {
   "cell_type": "code",
   "execution_count": null,
   "metadata": {},
   "outputs": [],
   "source": [
    "np.array(exp1['gmp'])[:,-1]-np.array(exp2['gmp'])[:,-1]"
   ]
  },
  {
   "cell_type": "code",
   "execution_count": null,
   "metadata": {},
   "outputs": [],
   "source": [
    "fig, axs = plt.subplots(1)\n",
    "axs.plot(np.array(exp1['gmp'])[:,-1])\n",
    "axs.plot(np.array(exp2['gmp'])[:,-1])"
   ]
  },
  {
   "cell_type": "markdown",
   "metadata": {},
   "source": [
    "## BOSS\n",
    "Covariance function:\n",
    "\n",
    "Hyperparameter priors:\n",
    "$d = y_{max}-y_{min}$\\\n",
    "$var = gammadist(2, 2/(d/2)^2)$\\\n",
    "$lengthscales = [gammadist(3.3678, 9.0204)_1, ..., gammadist(3.3678, 9.0204)_{dim}]$\n"
   ]
  },
  {
   "cell_type": "code",
   "execution_count": null,
   "metadata": {},
   "outputs": [],
   "source": [
    "### STS thetainit\n",
    "# default initial hyperparameters\n",
    "        if self.thetainit is None:\n",
    "            self.thetainit = [0.5 * (self.yrange[1] - self.yrange[0])] # sig\n",
    "            for i in range(self.dim): # lengthscales\n",
    "                if self.kerntype[i] == 'stdp': # pbc\n",
    "                    self.thetainit.append(np.pi/10)\n",
    "                else: # nonpbc\n",
    "                    self.thetainit.append(self.periods[i]/20)\n",
    "\n",
    "\n",
    "### kernelfactory\n",
    "for i in range(STS.dim):\n",
    "            if forced_hypers is None:\n",
    "                if i == 0:\n",
    "                    Ksi = STS.thetainit[0]\n",
    "                else:\n",
    "                    Ksi = 1.0\n",
    "                Klsi = STS.thetainit[i + 1]\n",
    "            else:\n",
    "                Ksi = forced_hypers[0]\n",
    "                Klsi = forced_hypers[1 + i]\n",
    "            Kp = STS.periods[i]\n",
    "\n",
    "            if STS.kerntype[i] == \"stdp\":\n",
    "                kerns[i] = GPy.kern.StdPeriodic( ##########################\n",
    "                    input_dim=1,\n",
    "                    variance=Ksi,\n",
    "                    period=Kp,\n",
    "                    lengthscale=Klsi,\n",
    "                    ARD1=True,\n",
    "                    ARD2=True,\n",
    "                    active_dims=[i],\n",
    "                    name=\"kern\",\n",
    "                )\n",
    "                \n",
    "### GPy stdperiodic\n",
    "def __init__(self, input_dim, variance=1., period=None, lengthscale=None, ARD1=False, ARD2=False, active_dims=None, name='std_periodic',useGPU=False):\n",
    "        super(StdPeriodic, self).__init__(input_dim, active_dims, name, useGPU=useGPU)\n",
    "        self.ARD1 = ARD1 # correspond to periods\n",
    "        self.ARD2 = ARD2 # correspond to lengthscales\n",
    "\n",
    "        self.name = name\n",
    "\n",
    "        if self.ARD1 == False:\n",
    "            if period is not None: #### shared\n",
    "                period = np.asarray(period)\n",
    "                assert period.size == 1, \"Only one period needed for non-ARD kernel\"\n",
    "            else:\n",
    "                period = np.ones(1)\n",
    "        else:\n",
    "            if period is not None:\n",
    "                period = np.asarray(period)\n",
    "                assert period.size == input_dim, \"bad number of periods\"\n",
    "            else:\n",
    "                period = np.ones(input_dim)\n",
    "\n",
    "        if self.ARD2 == False: ##### shared\n",
    "            if lengthscale is not None:\n",
    "                lengthscale = np.asarray(lengthscale)\n",
    "                assert lengthscale.size == 1, \"Only one lengthscale needed for non-ARD kernel\"\n",
    "            else:\n",
    "                lengthscale = np.ones(1)\n",
    "        else:\n",
    "            if lengthscale is not None:\n",
    "                lengthscale = np.asarray(lengthscale)\n",
    "                assert lengthscale.size == input_dim, \"bad number of lengthscales\"\n",
    "            else:\n",
    "                lengthscale = np.ones(input_dim)\n",
    "\n",
    "        self.variance = Param('variance', variance, Logexp()) ############### variance\n",
    "        assert self.variance.size==1, \"Variance size must be one\"\n",
    "        self.period =  Param('period', period, Logexp())\n",
    "        self.lengthscale =  Param('lengthscale', lengthscale, Logexp())\n",
    "\n",
    "        self.link_parameters(self.variance,  self.period, self.lengthscale)\n"
   ]
  },
  {
   "cell_type": "code",
   "execution_count": null,
   "metadata": {},
   "outputs": [],
   "source": []
  },
  {
   "cell_type": "markdown",
   "metadata": {},
   "source": [
    "## BOSS-MT (currently)\n",
    "GPy defaults\n",
    "\n",
    "\n"
   ]
  },
  {
   "cell_type": "code",
   "execution_count": null,
   "metadata": {},
   "outputs": [],
   "source": [
    "#-- default hyperparameter priors\n",
    "        if self.thetapriorpar is None and self.thetaprior is not None:\n",
    "            if self.thetaprior == \"gamma\":\n",
    "                self.thetapriorpar = [[1,1]] # not used, but must be passed to kernelfactory initialized\n",
    "            else:\n",
    "                raise TypeError(\"Unknown options set for thetaprior: '\"\n",
    "                                + self.thetaprior + \"'.\")\n",
    "\n",
    "            for i in range(self.dim):\n",
    "                if self.thetaprior == \"gamma\":\n",
    "                    if self.kerntype[i] == 'stdp': # pbc\n",
    "                        shape = 3.3678\n",
    "                        rate = 9.0204\n",
    "                    else: # nonpbc\n",
    "                        shape, rate = Distributions.gammaparams(\n",
    "                            self.periods[i]/20, self.periods[i]/2\n",
    "                                                 )\n",
    "                    self.thetapriorpar.append([shape, rate])\n",
    "                else:\n",
    "                    raise TypeError(\"Unknown options set for \\\n",
    "                                    K_priortype: '\" + self.thetaprior + \"'.\")\n",
    "\n",
    "# default initial hyperparameters\n",
    "        if self.thetainit is None:\n",
    "            self.thetainit = [1] # var fixed, change kernel constructer later so that it does not need\n",
    "            for i in range(self.dim): # lengthscales\n",
    "                if self.kerntype[i] == 'stdp': # pbc\n",
    "                    self.thetainit.append(np.pi/10)\n",
    "                else: # nonpbc\n",
    "                    self.thetainit.append(self.periods[i]/20)\n",
    "\n",
    "\n",
    "### BOSS MT\n",
    "self.kernel = GPy.util.multioutput.LCM(dim, num_tasks, kernels_list, W_rank)\n",
    "        # set kernel variance fixed to 1 (gpy sets the same variance for all kernels)\n",
    "self.kernel.kern.variance.constrain_fixed(1)\n",
    "\n",
    "### multioutput\n",
    "def ICM(input_dim, num_outputs, kernel, W_rank=1,W=None,kappa=None,name='ICM'):\n",
    "    \"\"\"\n",
    "    Builds a kernel for an Intrinsic Coregionalization Model\n",
    "\n",
    "    :input_dim: Input dimensionality (does not include dimension of indices)\n",
    "    :num_outputs: Number of outputs\n",
    "    :param kernel: kernel that will be multiplied by the coregionalize kernel (matrix B).\n",
    "    :type kernel: a GPy kernel\n",
    "    :param W_rank: number tuples of the corregionalization parameters 'W'\n",
    "    :type W_rank: integer\n",
    "    \"\"\"\n",
    "    if kernel.input_dim != input_dim:\n",
    "        kernel.input_dim = input_dim\n",
    "        warnings.warn(\"kernel's input dimension overwritten to fit input_dim parameter.\")\n",
    "\n",
    "    K = kernel.prod(GPy.kern.Coregionalize(1, num_outputs, active_dims=[input_dim], rank=W_rank,W=W,kappa=kappa,name='B'),name=name)\n",
    "    return K\n",
    "def LCM(input_dim, num_outputs, kernels_list, W_rank=1,name='ICM'):\n",
    "    \"\"\"\n",
    "    Builds a kernel for an Linear Coregionalization Model\n",
    "\n",
    "    :input_dim: Input dimensionality (does not include dimension of indices)\n",
    "    :num_outputs: Number of outputs\n",
    "    :param kernel: kernel that will be multiplied by the coregionalize kernel (matrix B).\n",
    "    :type kernel: a GPy kernel\n",
    "    :param W_rank: number tuples of the corregionalization parameters 'W'\n",
    "    :type W_rank: integer\n",
    "    \"\"\"\n",
    "    Nk = len(kernels_list)\n",
    "    K = ICM(input_dim,num_outputs,kernels_list[0],W_rank,name='%s%s' %(name,0))\n",
    "    j = 1\n",
    "    for kernel in kernels_list[1:]:\n",
    "        K += ICM(input_dim,num_outputs,kernel,W_rank,name='%s%s' %(name,j))\n",
    "        j += 1\n",
    "    return K\n",
    "### coregionalize\n",
    "\n",
    "def __init__(self, input_dim, output_dim, rank=1, W=None, kappa=None, active_dims=None, name='coregion'):\n",
    "        super(Coregionalize, self).__init__(input_dim, active_dims, name=name)\n",
    "        self.output_dim = output_dim\n",
    "        self.rank = rank\n",
    "        if self.rank>output_dim:\n",
    "            print(\"Warning: Unusual choice of rank, it should normally be less than the output_dim.\")\n",
    "        if W is None:\n",
    "            W = 0.5*np.random.randn(self.output_dim, self.rank)/np.sqrt(self.rank)\n",
    "        else:\n",
    "            assert W.shape==(self.output_dim, self.rank)\n",
    "        self.W = Param('W', W)\n",
    "        if kappa is None:\n",
    "            kappa = 0.5*np.ones(self.output_dim)\n",
    "        else:\n",
    "            assert kappa.shape==(self.output_dim, )\n",
    "        self.kappa = Param('kappa', kappa, Logexp())\n",
    "        self.link_parameters(self.W, self.kappa)\n",
    "\n",
    "[docs]    def parameters_changed(self):\n",
    "        self.B = np.dot(self.W, self.W.T) + np.diag(self.kappa)"
   ]
  },
  {
   "cell_type": "code",
   "execution_count": null,
   "metadata": {},
   "outputs": [],
   "source": []
  },
  {
   "cell_type": "code",
   "execution_count": null,
   "metadata": {},
   "outputs": [],
   "source": []
  },
  {
   "cell_type": "markdown",
   "metadata": {},
   "source": [
    "## BOSS-MT (as should)"
   ]
  }
 ],
 "metadata": {
  "kernelspec": {
   "display_name": "Python 3",
   "language": "python",
   "name": "python3"
  },
  "language_info": {
   "codemirror_mode": {
    "name": "ipython",
    "version": 3
   },
   "file_extension": ".py",
   "mimetype": "text/x-python",
   "name": "python",
   "nbconvert_exporter": "python",
   "pygments_lexer": "ipython3",
   "version": "3.7.4"
  }
 },
 "nbformat": 4,
 "nbformat_minor": 2
}
